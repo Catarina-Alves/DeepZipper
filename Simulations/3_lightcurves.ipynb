{
 "cells": [
  {
   "cell_type": "markdown",
   "metadata": {},
   "source": [
    "# Visualization with DeepLenstronomy\n",
    "\n",
    "`deeplenstronomy` has a couple built-in visualization functions to help you inspect your simulated data. We will see the data previously generated.\n",
    "\n",
    "#### Index<a name=\"index\"></a>\n",
    "1. [Import Packages](#imports)\n",
    "2. [Visualize images](#see)\n",
    "    1. [`CONFIGURATION` 1 and 2](#see12)\n",
    "    2. [`CONFIGURATION` 3](#see3)\n",
    "\n",
    "\n",
    "## 1. Import Packages<a name=\"imports\"></a>"
   ]
  },
  {
   "cell_type": "code",
   "execution_count": null,
   "metadata": {},
   "outputs": [],
   "source": [
    "import matplotlib.pyplot as plt\n",
    "import numpy as np\n",
    "import pandas as pd\n",
    "import deeplenstronomy.deeplenstronomy as dl"
   ]
  },
  {
   "cell_type": "markdown",
   "metadata": {},
   "source": [
    "## 2. Visualize images<a name=\"see\"></a>\n",
    "\n",
    "### 2.2. `CONFIGURATION` 1 and 2<a name=\"see12\"></a>\n",
    "\n",
    "We are visualizing `CONFIGURATION` 1: Galaxy-Galaxy Lensing."
   ]
  },
  {
   "cell_type": "code",
   "execution_count": null,
   "metadata": {},
   "outputs": [],
   "source": [
    "high_cad_1_2_config1_metadata = pd.read_csv('high_cad_1_2_data/CONFIGURATION_1_metadata.csv', sep=',')"
   ]
  },
  {
   "cell_type": "code",
   "execution_count": null,
   "metadata": {},
   "outputs": [],
   "source": [
    "# Get the indices of all the images corresponding to OBJID = 10\n",
    "obj_indices = (high_cad_1_2_config1_metadata['OBJID-g'].values == 10).nonzero()[0]\n",
    "print(obj_indices)"
   ]
  },
  {
   "cell_type": "code",
   "execution_count": null,
   "metadata": {
    "scrolled": false
   },
   "outputs": [],
   "source": [
    "plt.figure()\n",
    "\n",
    "color_dict = {'g': '#984ea3', 'r': '#377eb8', 'i': '#4daf4a', 'z': '#ff7f00', 'Y': '#e41a1c'}\n",
    "\n",
    "for band in ['g', 'r', 'i', 'z']:\n",
    "    times = high_cad_1_2_config1_metadata['PLANE_1-OBJECT_2-nite-{0}'.format(band)].values[obj_indices]\n",
    "    mags = high_cad_1_2_config1_metadata['PLANE_1-OBJECT_2-magnitude-{0}'.format(band)].values[obj_indices]\n",
    "    \n",
    "    plt.plot(times, mags, color=color_dict[band], label=band, marker='o')\n",
    "    \n",
    "plt.legend(fontsize=12, ncol=5)\n",
    "# plt.ylim(22, 16)\n",
    "plt.xticks(fontsize=14)\n",
    "plt.yticks(fontsize=14)\n",
    "plt.xlabel(\"Days relative to peak flux\", fontsize=14)\n",
    "plt.ylabel(\"Magnitude\", fontsize=14)\n",
    "plt.show()"
   ]
  },
  {
   "cell_type": "markdown",
   "metadata": {},
   "source": [
    "We are visualizing `CONFIGURATION` 2: Two Nearby Galaxies."
   ]
  },
  {
   "cell_type": "code",
   "execution_count": null,
   "metadata": {},
   "outputs": [],
   "source": [
    "high_cad_1_2_config2_metadata = pd.read_csv('high_cad_1_2_data/CONFIGURATION_2_metadata.csv', sep=',')"
   ]
  },
  {
   "cell_type": "code",
   "execution_count": null,
   "metadata": {},
   "outputs": [],
   "source": [
    "# Get the indices of all the images corresponding to OBJID = 10\n",
    "obj_indices = (high_cad_1_2_config2_metadata['OBJID-g'].values == 15).nonzero()[0]\n",
    "print(obj_indices)"
   ]
  },
  {
   "cell_type": "code",
   "execution_count": null,
   "metadata": {
    "scrolled": true
   },
   "outputs": [],
   "source": [
    "plt.figure()\n",
    "\n",
    "color_dict = {'g': '#984ea3', 'r': '#377eb8', 'i': '#4daf4a', 'z': '#ff7f00', 'Y': '#e41a1c'}\n",
    "\n",
    "for band in ['g', 'r', 'i', 'z']:\n",
    "    times = high_cad_1_2_config2_metadata['PLANE_1-OBJECT_2-nite-{0}'.format(band)].values[obj_indices]\n",
    "    mags = high_cad_1_2_config2_metadata['PLANE_1-OBJECT_2-magnitude-{0}'.format(band)].values[obj_indices]\n",
    "    \n",
    "    plt.plot(times, mags, color=color_dict[band], label=band, marker='o')\n",
    "    \n",
    "plt.legend(fontsize=12, ncol=5)\n",
    "# plt.ylim(22, 16)\n",
    "plt.xticks(fontsize=14)\n",
    "plt.yticks(fontsize=14)\n",
    "plt.xlabel(\"Days relative to peak flux\", fontsize=14)\n",
    "plt.ylabel(\"Magnitude\", fontsize=14)\n",
    "plt.show()"
   ]
  },
  {
   "cell_type": "markdown",
   "metadata": {},
   "source": [
    "[Go back to top.](#index)\n",
    "\n",
    "### 2.2. `CONFIGURATION` 3<a name=\"see3\"></a>\n",
    "\n",
    "We are visualizing `CONFIGURATION` 3: Lensed SN-Ia."
   ]
  },
  {
   "cell_type": "code",
   "execution_count": null,
   "metadata": {},
   "outputs": [],
   "source": [
    "high_cad_3_config1_metadata = pd.read_csv('high_cad_3_data/CONFIGURATION_1_metadata.csv', sep=',')"
   ]
  },
  {
   "cell_type": "code",
   "execution_count": null,
   "metadata": {},
   "outputs": [],
   "source": [
    "# Get the indices of all the images corresponding to OBJID = 10\n",
    "obj_indices = (high_cad_1_2_config1_metadata['OBJID-g'].values == 100).nonzero()[0]\n",
    "print(obj_indices)"
   ]
  },
  {
   "cell_type": "code",
   "execution_count": null,
   "metadata": {
    "scrolled": false
   },
   "outputs": [],
   "source": [
    "plt.figure()\n",
    "\n",
    "color_dict = {'g': '#984ea3', 'r': '#377eb8', 'i': '#4daf4a', 'z': '#ff7f00', 'Y': '#e41a1c'}\n",
    "\n",
    "for band in ['g', 'r', 'i', 'z']:\n",
    "    times = high_cad_3_config1_metadata['PLANE_2-OBJECT_2-nite-{0}'.format(band)].values[obj_indices]\n",
    "    mags = high_cad_3_config1_metadata['PLANE_2-OBJECT_2-magnitude-{0}'.format(band)].values[obj_indices]\n",
    "    \n",
    "    plt.plot(times, mags, color=color_dict[band], label=band, marker='o')\n",
    "    \n",
    "plt.legend(fontsize=12, ncol=5)\n",
    "# plt.ylim(22, 16)\n",
    "plt.xticks(fontsize=14)\n",
    "plt.yticks(fontsize=14)\n",
    "plt.xlabel(\"Days relative to peak flux\", fontsize=14)\n",
    "plt.ylabel(\"Magnitude\", fontsize=14)\n",
    "plt.show()"
   ]
  },
  {
   "cell_type": "code",
   "execution_count": null,
   "metadata": {
    "scrolled": false
   },
   "outputs": [],
   "source": [
    "for c in high_cad_3_config1_metadata.columns:\n",
    "    print(c)"
   ]
  },
  {
   "cell_type": "code",
   "execution_count": null,
   "metadata": {},
   "outputs": [],
   "source": [
    "high_cad_3_config1_metadata.head()"
   ]
  },
  {
   "cell_type": "code",
   "execution_count": null,
   "metadata": {},
   "outputs": [],
   "source": [
    "np.unique(high_cad_3_config1_metadata['H0-g'])"
   ]
  },
  {
   "cell_type": "code",
   "execution_count": null,
   "metadata": {},
   "outputs": [],
   "source": [
    "len(np.unique(high_cad_3_config1_metadata['OBJID-i']))"
   ]
  },
  {
   "cell_type": "code",
   "execution_count": null,
   "metadata": {},
   "outputs": [],
   "source": [
    "is_obj_1 = high_cad_3_config1_metadata['OBJID-i'] == 153"
   ]
  },
  {
   "cell_type": "code",
   "execution_count": null,
   "metadata": {},
   "outputs": [],
   "source": [
    "np.sum(is_obj_1)/len(is_obj_1)"
   ]
  },
  {
   "cell_type": "code",
   "execution_count": null,
   "metadata": {},
   "outputs": [],
   "source": [
    "np.unique(high_cad_3_config1_metadata['PLANE_2-OBJECT_1-MASS_PROFILE_1-e1-r'])"
   ]
  },
  {
   "cell_type": "code",
   "execution_count": null,
   "metadata": {},
   "outputs": [],
   "source": [
    "aa = high_cad_3_config1_metadata['PLANE_2-OBJECT_2-peaknite-i']#[is_obj_1]"
   ]
  },
  {
   "cell_type": "code",
   "execution_count": null,
   "metadata": {},
   "outputs": [],
   "source": [
    "# aa = high_cad_1_2_config1_metadata['PLANE_1-OBJECT_2-magnitude-i']"
   ]
  },
  {
   "cell_type": "code",
   "execution_count": null,
   "metadata": {},
   "outputs": [],
   "source": [
    "len(np.unique(aa))"
   ]
  },
  {
   "cell_type": "code",
   "execution_count": null,
   "metadata": {},
   "outputs": [],
   "source": [
    "np.unique(aa)"
   ]
  },
  {
   "cell_type": "code",
   "execution_count": null,
   "metadata": {},
   "outputs": [],
   "source": [
    "np.unique(aa)"
   ]
  },
  {
   "cell_type": "markdown",
   "metadata": {},
   "source": [
    "[Go back to top.](#index)"
   ]
  }
 ],
 "metadata": {
  "kernelspec": {
   "display_name": "Python 3",
   "language": "python",
   "name": "python3"
  },
  "language_info": {
   "codemirror_mode": {
    "name": "ipython",
    "version": 3
   },
   "file_extension": ".py",
   "mimetype": "text/x-python",
   "name": "python",
   "nbconvert_exporter": "python",
   "pygments_lexer": "ipython3",
   "version": "3.7.7"
  }
 },
 "nbformat": 4,
 "nbformat_minor": 2
}
