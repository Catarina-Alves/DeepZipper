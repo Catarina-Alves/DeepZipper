{
 "cells": [
  {
   "cell_type": "markdown",
   "id": "204fbfef",
   "metadata": {},
   "source": [
    "# Generate a dataset\n",
    "\n",
    "#### Index<a name=\"index\"></a>\n",
    "1. [Import Packages](#imports)\n",
    "2. [Select config file](#config)\n",
    "3. [Simulate dataset](#simulate)\n",
    "    1. [Original dataset](#simulateOri)\n",
    "    2. [`CONFIGURATION` 1 and 2](#simulate12)\n",
    "    3. [`CONFIGURATION` 3](#simulate3)\n",
    "\n",
    "\n",
    "## 1. Import Packages<a name=\"imports\"></a>"
   ]
  },
  {
   "cell_type": "code",
   "execution_count": null,
   "id": "af1a6358",
   "metadata": {},
   "outputs": [],
   "source": [
    "import time\n",
    "import utils"
   ]
  },
  {
   "cell_type": "code",
   "execution_count": null,
   "id": "6b50407c",
   "metadata": {},
   "outputs": [],
   "source": [
    "import deeplenstronomy.deeplenstronomy as dl"
   ]
  },
  {
   "cell_type": "markdown",
   "id": "aa4c051f",
   "metadata": {},
   "source": [
    "## 2. Select config file<a name=\"config\"></a>\n",
    "\n",
    "Select and check config file."
   ]
  },
  {
   "cell_type": "code",
   "execution_count": null,
   "id": "56784859",
   "metadata": {},
   "outputs": [],
   "source": [
    "config_file = 'high_cad_data.yaml'\n",
    "# config_file = 'des_deep_data.yaml'\n",
    "# config_file = 'full_data.yaml'\n",
    "# config_file = 'des_sim_data.yaml' # more errors: MASS_PROFILE missing\n",
    "# config_file = 'lsst_data.yaml'\n",
    "# config_file = 'sim_data.yaml' # more errors: MASS_PROFILE missing"
   ]
  },
  {
   "cell_type": "code",
   "execution_count": null,
   "id": "31876be6",
   "metadata": {
    "scrolled": true
   },
   "outputs": [],
   "source": [
    "! cat high_cad_data.yaml"
   ]
  },
  {
   "cell_type": "markdown",
   "id": "96dada03",
   "metadata": {},
   "source": [
    "[Go back to top.](#index)\n",
    "\n",
    "## 3. Simulate dataset<a name=\"simulate\"></a>\n",
    "\n",
    "### 3.1. Original dataset<a name=\"simulateOri\"></a>\n",
    "\n",
    "This section will throw an error\n",
    "```python\n",
    "KeyError: 'PLANE_1-OBJECT_2-REDSHIFT'\n",
    "```\n",
    "\n",
    "Get the dataset name"
   ]
  },
  {
   "cell_type": "code",
   "execution_count": null,
   "id": "5c33ad9e",
   "metadata": {},
   "outputs": [],
   "source": [
    "config_file = 'high_cad_data.yaml'\n",
    "dataset_name = config_file[:-5]\n",
    "print(dataset_name)"
   ]
  },
  {
   "cell_type": "markdown",
   "id": "cd21392a",
   "metadata": {},
   "source": [
    "Generate the dataset"
   ]
  },
  {
   "cell_type": "code",
   "execution_count": null,
   "id": "d1b409e3",
   "metadata": {
    "scrolled": false
   },
   "outputs": [],
   "source": [
    "dataset = dl.make_dataset(f\"high_cad_data.yaml\", \n",
    "                          store_in_memory=False, \n",
    "                          save_to_disk=True, \n",
    "                          verbose=True)"
   ]
  },
  {
   "cell_type": "markdown",
   "id": "784f8200",
   "metadata": {},
   "source": [
    "[Go back to top.](#index)\n",
    "\n",
    "### 3.2. `CONFIGURATION` 1 and 2<a name=\"simulate12\"></a>\n",
    "\n",
    "This section will work. We are just generating `CONFIGURATION` 1 and 2: Galaxy-Galaxy Lensing and Two Nearby Galaxies.\n",
    "\n",
    "Get the dataset name"
   ]
  },
  {
   "cell_type": "code",
   "execution_count": null,
   "id": "5864a6a0",
   "metadata": {},
   "outputs": [],
   "source": [
    "config_file = 'high_cad_1_2_data.yaml'\n",
    "dataset_name = config_file[:-5]\n",
    "print(dataset_name)"
   ]
  },
  {
   "cell_type": "markdown",
   "id": "a4847c97",
   "metadata": {},
   "source": [
    "Generate the dataset"
   ]
  },
  {
   "cell_type": "code",
   "execution_count": null,
   "id": "e14da8b2",
   "metadata": {
    "scrolled": true
   },
   "outputs": [],
   "source": [
    "dataset = dl.make_dataset(f\"{dataset_name}.yaml\", \n",
    "                          store_in_memory=False, \n",
    "                          save_to_disk=True, \n",
    "                          verbose=True)"
   ]
  },
  {
   "cell_type": "code",
   "execution_count": null,
   "id": "f51addb2",
   "metadata": {
    "scrolled": false
   },
   "outputs": [],
   "source": [
    "dataset"
   ]
  },
  {
   "cell_type": "code",
   "execution_count": null,
   "id": "7a45aeb7",
   "metadata": {},
   "outputs": [],
   "source": [
    "print(dataset.CONFIGURATION_1_metadata['OBJID-g'].values)"
   ]
  },
  {
   "cell_type": "code",
   "execution_count": null,
   "id": "dfaa11c8",
   "metadata": {},
   "outputs": [],
   "source": []
  },
  {
   "cell_type": "markdown",
   "id": "bbd1abd3",
   "metadata": {},
   "source": [
    "[Go back to top.](#index)\n",
    "\n",
    "### 3.3. `CONFIGURATION` 3<a name=\"simulate3\"></a>\n",
    "\n",
    "This section will work. We are just generating `CONFIGURATION` 3: Lensed SN-Ia.\n",
    "\n",
    "Get the dataset name"
   ]
  },
  {
   "cell_type": "code",
   "execution_count": null,
   "id": "f8f3c25e",
   "metadata": {},
   "outputs": [],
   "source": [
    "config_file = 'high_cad_3_data.yaml'\n",
    "dataset_name = config_file[:-5]\n",
    "print(dataset_name)"
   ]
  },
  {
   "cell_type": "markdown",
   "id": "4f40ddfe",
   "metadata": {},
   "source": [
    "Generate the dataset"
   ]
  },
  {
   "cell_type": "code",
   "execution_count": null,
   "id": "005ad1ad",
   "metadata": {
    "scrolled": true
   },
   "outputs": [],
   "source": [
    "dataset = dl.make_dataset(f\"{dataset_name}.yaml\", \n",
    "                          store_in_memory=False, \n",
    "                          save_to_disk=True, \n",
    "                          verbose=True)"
   ]
  },
  {
   "cell_type": "markdown",
   "id": "fb32f87f",
   "metadata": {},
   "source": [
    "[Go back to top.](#index)"
   ]
  }
 ],
 "metadata": {
  "kernelspec": {
   "display_name": "Python 3",
   "language": "python",
   "name": "python3"
  },
  "language_info": {
   "codemirror_mode": {
    "name": "ipython",
    "version": 3
   },
   "file_extension": ".py",
   "mimetype": "text/x-python",
   "name": "python",
   "nbconvert_exporter": "python",
   "pygments_lexer": "ipython3",
   "version": "3.7.7"
  }
 },
 "nbformat": 4,
 "nbformat_minor": 5
}
