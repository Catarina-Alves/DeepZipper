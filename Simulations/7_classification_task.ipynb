{
 "cells": [
  {
   "cell_type": "markdown",
   "id": "6196b71e",
   "metadata": {},
   "source": [
    "# Classification Task\n",
    "\n",
    "In this notebook we aim to train, validate and test a neural net to classify between:\n",
    "* one galaxy behind one foreground galaxy\n",
    "* two galaxies at the same redshift and with small angular separation (1 to 4 arcseconds)\n",
    "\n",
    "These datasets were created in notebook `1_create_simulations`.\n",
    "\n",
    "This notebook also incorporates the critical diagnostics described in [Training a Machine Learning Model](https://docs.google.com/document/d/1U17RNPqDA5uP9-M5V3ENweKig5eRZWHTpja-hh1z1MI/edit).\n",
    "\n",
    "#### Index<a name=\"index\"></a>\n",
    "1. [Import Packages](#imports)\n",
    "2. [Load data](#load)\n",
    "3. [Process data](#process)\n",
    "    1. [Ingest the data](#ingest)\n",
    "    2. [Get dataloader](#dataloader)\n",
    "4. [Train network](#train)\n",
    "    1. [Save performance](#savePerformance)\n",
    "    2. [Predict class](#predict)\n",
    "    3. [Confusion matrix](#cm)\n",
    "\n",
    "\n",
    "## 1. Import Packages<a name=\"imports\"></a>"
   ]
  },
  {
   "cell_type": "code",
   "execution_count": 1,
   "id": "e41aaae0",
   "metadata": {},
   "outputs": [],
   "source": [
    "import sys\n",
    "import time\n",
    "import glob"
   ]
  },
  {
   "cell_type": "code",
   "execution_count": 2,
   "id": "466df13e",
   "metadata": {},
   "outputs": [],
   "source": [
    "import numpy as np\n",
    "import pandas as pd\n",
    "import torch\n",
    "import process\n",
    "import matplotlib.pyplot as plt\n",
    "import seaborn as sns"
   ]
  },
  {
   "cell_type": "code",
   "execution_count": 3,
   "id": "89c3d2ed",
   "metadata": {},
   "outputs": [],
   "source": [
    "sys.path.append('../Network')\n",
    "import data_utils\n",
    "import networks\n",
    "import training\n",
    "import save\n",
    "import predict"
   ]
  },
  {
   "cell_type": "code",
   "execution_count": 4,
   "id": "5fa40af5",
   "metadata": {},
   "outputs": [],
   "source": [
    "from sklearn.metrics import confusion_matrix"
   ]
  },
  {
   "cell_type": "markdown",
   "id": "8ce7786b",
   "metadata": {},
   "source": [
    "### Aestetic settings"
   ]
  },
  {
   "cell_type": "code",
   "execution_count": 5,
   "id": "a6ff8485",
   "metadata": {},
   "outputs": [],
   "source": [
    "%matplotlib inline\n",
    "%config Completer.use_jedi = False  # enable autocomplete\n",
    "\n",
    "size_default = 1.5\n",
    "size_larger = 1.9\n",
    "sns.set(font_scale=size_default, style=\"ticks\")"
   ]
  },
  {
   "cell_type": "markdown",
   "id": "4d4b10f4",
   "metadata": {},
   "source": [
    "## Notebook Options"
   ]
  },
  {
   "cell_type": "code",
   "execution_count": 23,
   "id": "1c711e9d",
   "metadata": {},
   "outputs": [],
   "source": [
    "is_processed = 1  # Set to 0 if the data has not yet been processed\n",
    "is_trained = 0  # Set to 0 if the network has not yet been trained\n",
    "\n",
    "# Select the network type\n",
    "#net_type = 'CNN'\n",
    "net_type = 'RNN'\n",
    "# net_type = 'ZIPPER'"
   ]
  },
  {
   "cell_type": "markdown",
   "id": "77e0707d",
   "metadata": {},
   "source": [
    "## 2. Load data<a name=\"load\"></a>"
   ]
  },
  {
   "cell_type": "code",
   "execution_count": 7,
   "id": "1dbc9a48",
   "metadata": {},
   "outputs": [],
   "source": [
    "dataset_name = 'high_cad_1_2_data'\n",
    "directory = dataset_name"
   ]
  },
  {
   "cell_type": "markdown",
   "id": "136e786f",
   "metadata": {},
   "source": [
    "[Go back to top.](#index)\n",
    "\n",
    "### 2.1. Process data<a name=\"process\"></a>\n",
    "\n",
    "Following [DeepZipper paper](https://arxiv.org/pdf/2112.01541.pdf), we condense the image information to single-image input by averaging all images in the time series on a pixel-by-pixel basis within each band.\n",
    "\n",
    "This also augments the training set by rotating and morroring the images."
   ]
  },
  {
   "cell_type": "code",
   "execution_count": 8,
   "id": "467365ad",
   "metadata": {},
   "outputs": [],
   "source": [
    "if not is_processed:\n",
    "    configurations = [x.split(\"/\")[1].split(\"_images.\")[0] for x in glob.glob(f\"{directory}/*_images.npy\")]\n",
    "    \n",
    "    ini_time = time.time()\n",
    "    for configuration in sorted(configurations):\n",
    "        process.run(directory, configuration)\n",
    "    print(time.time() - ini_time)"
   ]
  },
  {
   "cell_type": "markdown",
   "id": "b100011f",
   "metadata": {},
   "source": [
    "### 2.2. Original data<a name=\"loadOri\"></a>"
   ]
  },
  {
   "cell_type": "markdown",
   "id": "a8f11814",
   "metadata": {},
   "source": [
    "Configuration 1:"
   ]
  },
  {
   "cell_type": "code",
   "execution_count": 9,
   "id": "701690a8",
   "metadata": {},
   "outputs": [],
   "source": [
    "images_config1_ori = np.load(dataset_name+'/CONFIGURATION_1_images.npy')\n",
    "metadata_config1_ori = pd.read_csv(dataset_name+'/CONFIGURATION_1_metadata.csv', sep=',')"
   ]
  },
  {
   "cell_type": "code",
   "execution_count": 10,
   "id": "4e706500",
   "metadata": {},
   "outputs": [
    {
     "name": "stdout",
     "output_type": "stream",
     "text": [
      "(4665, 4, 45, 45)\n",
      "(4665, 324)\n",
      "# events:  311\n"
     ]
    }
   ],
   "source": [
    "print(np.shape(images_config1_ori))\n",
    "print(np.shape(metadata_config1_ori))\n",
    "print('# events: ', len(np.unique(metadata_config1_ori['OBJID-g'])))"
   ]
  },
  {
   "cell_type": "markdown",
   "id": "d2105a28",
   "metadata": {},
   "source": [
    "Configuration 2:"
   ]
  },
  {
   "cell_type": "code",
   "execution_count": 11,
   "id": "04a28837",
   "metadata": {},
   "outputs": [],
   "source": [
    "images_config2_ori = np.load(dataset_name+'/CONFIGURATION_2_images.npy')\n",
    "metadata_config2_ori = pd.read_csv(dataset_name+'/CONFIGURATION_2_metadata.csv', sep=',')"
   ]
  },
  {
   "cell_type": "code",
   "execution_count": 12,
   "id": "ccb66956",
   "metadata": {},
   "outputs": [
    {
     "name": "stdout",
     "output_type": "stream",
     "text": [
      "(2055, 4, 45, 45)\n",
      "(2055, 416)\n",
      "# events:  137\n"
     ]
    }
   ],
   "source": [
    "print(np.shape(images_config2_ori))\n",
    "print(np.shape(metadata_config2_ori))\n",
    "print('# events: ', len(np.unique(metadata_config2_ori['OBJID-g'])))"
   ]
  },
  {
   "cell_type": "markdown",
   "id": "e8518dd5",
   "metadata": {},
   "source": [
    "### 2.3. Processed data<a name=\"loadAug\"></a>"
   ]
  },
  {
   "cell_type": "markdown",
   "id": "8ec7113e",
   "metadata": {},
   "source": [
    "Configuration 1:"
   ]
  },
  {
   "cell_type": "code",
   "execution_count": 13,
   "id": "8b8a2c7c",
   "metadata": {},
   "outputs": [],
   "source": [
    "images_config1 = np.load(dataset_name+'/CONFIGURATION_1_proc_ims_15.npy')\n",
    "metadata_config1 = np.load(dataset_name+'/CONFIGURATION_1_proc_mds_15.npy', \n",
    "                           allow_pickle=True).item()"
   ]
  },
  {
   "cell_type": "code",
   "execution_count": 14,
   "id": "cf7aa655",
   "metadata": {},
   "outputs": [
    {
     "name": "stdout",
     "output_type": "stream",
     "text": [
      "(2488, 4, 45, 45)\n",
      "(15, 324)\n",
      "# events:  2488\n"
     ]
    }
   ],
   "source": [
    "print(np.shape(images_config1))\n",
    "print(np.shape(metadata_config1[0]))\n",
    "print('# events: ', len(metadata_config1.keys()))"
   ]
  },
  {
   "cell_type": "markdown",
   "id": "53dc2aaa",
   "metadata": {},
   "source": [
    "Configuration 2:"
   ]
  },
  {
   "cell_type": "code",
   "execution_count": 15,
   "id": "e81d78a8",
   "metadata": {},
   "outputs": [],
   "source": [
    "images_config2 = np.load(dataset_name+'/CONFIGURATION_2_proc_ims_15.npy')\n",
    "metadata_config2 = np.load(dataset_name+'/CONFIGURATION_2_proc_mds_15.npy', \n",
    "                           allow_pickle=True).item()"
   ]
  },
  {
   "cell_type": "code",
   "execution_count": 16,
   "id": "a7c3118b",
   "metadata": {},
   "outputs": [
    {
     "name": "stdout",
     "output_type": "stream",
     "text": [
      "(1096, 4, 45, 45)\n",
      "(15, 416)\n",
      "# events:  1096\n"
     ]
    }
   ],
   "source": [
    "print(np.shape(images_config2))\n",
    "print(np.shape(metadata_config2[0]))\n",
    "print('# events: ', len(metadata_config2.keys()))"
   ]
  },
  {
   "cell_type": "code",
   "execution_count": 17,
   "id": "a12ae512",
   "metadata": {},
   "outputs": [],
   "source": [
    "# Show rotation of the images\n",
    "# from deeplenstronomy.visualize import view_image, view_image_rgb\n",
    "# view_image_rgb(images_config2[1], Q=10, stretch=1)\n",
    "# view_image_rgb(images_config2[138], Q=10, stretch=1)\n",
    "# view_image_rgb(images_config2[275], Q=10, stretch=1)"
   ]
  },
  {
   "cell_type": "markdown",
   "id": "be542abe",
   "metadata": {},
   "source": [
    "## 3. Prepare data for network<a name=\"prepare\"></a>\n",
    "\n",
    "### 3.1. Train/Test set split<a name=\"split\"></a>"
   ]
  },
  {
   "cell_type": "code",
   "execution_count": 18,
   "id": "65b6f8ec",
   "metadata": {},
   "outputs": [
    {
     "name": "stdout",
     "output_type": "stream",
     "text": [
      "(2488, 15, 4)\n",
      "0\n",
      "(1096, 15, 4)\n",
      "1\n"
     ]
    }
   ],
   "source": [
    "train_dataset, test_dataset = data_utils.make_train_test_datasets(\n",
    "    directory=dataset_name, class_names=['CONFIGURATION_1_proc', 'CONFIGURATION_2_proc'], \n",
    "    suffix='15', label_map={})"
   ]
  },
  {
   "cell_type": "code",
   "execution_count": 19,
   "id": "3b50360e",
   "metadata": {},
   "outputs": [
    {
     "data": {
      "text/plain": [
       "(3225, 4, 45, 45)"
      ]
     },
     "execution_count": 19,
     "metadata": {},
     "output_type": "execute_result"
    }
   ],
   "source": [
    "np.shape(train_dataset.images) # I thought we added all the images? Why still many filters??"
   ]
  },
  {
   "cell_type": "markdown",
   "id": "63c0d972",
   "metadata": {},
   "source": [
    "### 3.2. Get dataloader<a name=\"dataloader\"></a>"
   ]
  },
  {
   "cell_type": "code",
   "execution_count": 20,
   "id": "5ccd23ae",
   "metadata": {},
   "outputs": [],
   "source": [
    "train_dataloader = data_utils.make_dataloader(train_dataset)"
   ]
  },
  {
   "cell_type": "markdown",
   "id": "f04a8d7d",
   "metadata": {},
   "source": [
    "### 3.3. Data Histogram<a name=\"dataHist\"></a>"
   ]
  },
  {
   "cell_type": "code",
   "execution_count": 21,
   "id": "f7c86eae",
   "metadata": {},
   "outputs": [],
   "source": [
    "dict_label_to_real = {0: 'gal-gal', 1: '2 gals'}"
   ]
  },
  {
   "cell_type": "code",
   "execution_count": 22,
   "id": "5e6deff8",
   "metadata": {},
   "outputs": [
    {
     "data": {
      "text/plain": [
       "<matplotlib.legend.Legend at 0x7f874d527690>"
      ]
     },
     "execution_count": 22,
     "metadata": {},
     "output_type": "execute_result"
    },
    {
     "data": {
      "image/png": "[encoded data removed]",
      "text/plain": [
       "<Figure size 432x288 with 1 Axes>"
      ]
     },
     "metadata": {},
     "output_type": "display_data"
    }
   ],
   "source": [
    "bins = np.arange(-.5, 1.5, 0.25)\n",
    "sns.histplot(data=train_dataset.labels-.25, kde=False, stat='density', \n",
    "             bins=bins,\n",
    "             color='C0', label='Train set', linewidth=3, fill=False)\n",
    "sns.histplot(data=test_dataset.labels, kde=False, stat='density', \n",
    "             bins=bins, \n",
    "             color='C1', label='Test set', linewidth=3, fill=False)\n",
    "plt.xticks(ticks=[0, 1], labels=[dict_label_to_real[0], dict_label_to_real[1]])\n",
    "plt.xlim(-.5, 1.5)\n",
    "plt.legend()"
   ]
  },
  {
   "cell_type": "markdown",
   "id": "2fbd7efb",
   "metadata": {},
   "source": [
    "[Go back to top.](#index)\n",
    "\n",
    "## 4. Train network<a name=\"train\"></a>"
   ]
  },
  {
   "cell_type": "code",
   "execution_count": 24,
   "id": "ff8d060a",
   "metadata": {},
   "outputs": [],
   "source": [
    "network_types = {'ZIPPER': networks.ZipperNN(4, 4, 4),\n",
    "                 'CNN': networks.CNN_single(4, 2),\n",
    "                 'RNN': networks.RNN_single(4, 3)}\n",
    "\n",
    "network = network_types[net_type]"
   ]
  },
  {
   "cell_type": "code",
   "execution_count": 25,
   "id": "5cfbc130",
   "metadata": {},
   "outputs": [
    {
     "name": "stdout",
     "output_type": "stream",
     "text": [
      "Epoch: 1 Batch: 1  | Training Accuracy: 0.710 -- Validation Accuracy: 0.694 -- Loss: 1.049\n",
      "Epoch: 1 Batch: 501  | Training Accuracy: 0.710 -- Validation Accuracy: 0.694 -- Loss: 0.546\n",
      "Epoch: 2 Batch: 1  | Training Accuracy: 0.710 -- Validation Accuracy: 0.694 -- Loss: 0.507\n",
      "Epoch: 2 Batch: 501  | Training Accuracy: 0.710 -- Validation Accuracy: 0.694 -- Loss: 0.523\n",
      "Epoch: 3 Batch: 1  | Training Accuracy: 0.710 -- Validation Accuracy: 0.694 -- Loss: 0.478\n",
      "Epoch: 3 Batch: 501  | Training Accuracy: 0.710 -- Validation Accuracy: 0.694 -- Loss: 1.109\n",
      "Epoch: 4 Batch: 1  | Training Accuracy: 0.710 -- Validation Accuracy: 0.694 -- Loss: 0.531\n",
      "Epoch: 4 Batch: 501  | Training Accuracy: 0.710 -- Validation Accuracy: 0.694 -- Loss: 0.692\n",
      "Epoch: 5 Batch: 1  | Training Accuracy: 0.710 -- Validation Accuracy: 0.694 -- Loss: 0.527\n",
      "Epoch: 5 Batch: 501  | Training Accuracy: 0.710 -- Validation Accuracy: 0.694 -- Loss: 0.531\n",
      "Epoch: 6 Batch: 1  | Training Accuracy: 0.710 -- Validation Accuracy: 0.694 -- Loss: 0.304\n",
      "Epoch: 6 Batch: 501  | Training Accuracy: 0.710 -- Validation Accuracy: 0.694 -- Loss: 0.522\n",
      "Epoch: 7 Batch: 1  | Training Accuracy: 0.710 -- Validation Accuracy: 0.694 -- Loss: 1.002\n",
      "Epoch: 7 Batch: 501  | Training Accuracy: 0.710 -- Validation Accuracy: 0.694 -- Loss: 0.389\n",
      "Epoch: 8 Batch: 1  | Training Accuracy: 0.710 -- Validation Accuracy: 0.694 -- Loss: 0.693\n",
      "Epoch: 8 Batch: 501  | Training Accuracy: 0.710 -- Validation Accuracy: 0.694 -- Loss: 0.510\n",
      "Epoch: 9 Batch: 1  | Training Accuracy: 0.710 -- Validation Accuracy: 0.694 -- Loss: 0.514\n",
      "Epoch: 9 Batch: 501  | Training Accuracy: 0.710 -- Validation Accuracy: 0.694 -- Loss: 0.547\n",
      "Epoch: 10 Batch: 1  | Training Accuracy: 0.710 -- Validation Accuracy: 0.694 -- Loss: 0.682\n",
      "Epoch: 10 Batch: 501  | Training Accuracy: 0.710 -- Validation Accuracy: 0.694 -- Loss: 0.353\n",
      "Epoch: 11 Batch: 1  | Training Accuracy: 0.710 -- Validation Accuracy: 0.694 -- Loss: 0.531\n",
      "Epoch: 11 Batch: 501  | Training Accuracy: 0.710 -- Validation Accuracy: 0.694 -- Loss: 0.517\n",
      "Epoch: 12 Batch: 1  | Training Accuracy: 0.710 -- Validation Accuracy: 0.694 -- Loss: 0.685\n",
      "Epoch: 12 Batch: 501  | Training Accuracy: 0.710 -- Validation Accuracy: 0.694 -- Loss: 0.688\n",
      "Epoch: 13 Batch: 1  | Training Accuracy: 0.710 -- Validation Accuracy: 0.694 -- Loss: 1.024\n",
      "Epoch: 13 Batch: 501  | Training Accuracy: 0.710 -- Validation Accuracy: 0.694 -- Loss: 0.677\n",
      "Epoch: 14 Batch: 1  | Training Accuracy: 0.710 -- Validation Accuracy: 0.694 -- Loss: 0.518\n",
      "Epoch: 14 Batch: 501  | Training Accuracy: 0.710 -- Validation Accuracy: 0.694 -- Loss: 0.943\n",
      "Epoch: 15 Batch: 1  | Training Accuracy: 0.710 -- Validation Accuracy: 0.694 -- Loss: 0.539\n",
      "Epoch: 15 Batch: 501  | Training Accuracy: 0.710 -- Validation Accuracy: 0.694 -- Loss: 0.908\n",
      "Epoch: 16 Batch: 1  | Training Accuracy: 0.710 -- Validation Accuracy: 0.694 -- Loss: 0.534\n",
      "Epoch: 16 Batch: 501  | Training Accuracy: 0.710 -- Validation Accuracy: 0.694 -- Loss: 0.679\n",
      "Epoch: 17 Batch: 1  | Training Accuracy: 0.710 -- Validation Accuracy: 0.694 -- Loss: 0.688\n",
      "Epoch: 17 Batch: 501  | Training Accuracy: 0.710 -- Validation Accuracy: 0.694 -- Loss: 0.711\n",
      "Epoch: 18 Batch: 1  | Training Accuracy: 0.710 -- Validation Accuracy: 0.694 -- Loss: 0.535\n",
      "Epoch: 18 Batch: 501  | Training Accuracy: 0.710 -- Validation Accuracy: 0.694 -- Loss: 0.691\n",
      "Epoch: 19 Batch: 1  | Training Accuracy: 0.710 -- Validation Accuracy: 0.694 -- Loss: 0.549\n",
      "Epoch: 19 Batch: 501  | Training Accuracy: 0.710 -- Validation Accuracy: 0.694 -- Loss: 0.687\n",
      "Epoch: 20 Batch: 1  | Training Accuracy: 0.710 -- Validation Accuracy: 0.694 -- Loss: 0.706\n",
      "Epoch: 20 Batch: 501  | Training Accuracy: 0.710 -- Validation Accuracy: 0.694 -- Loss: 0.692\n",
      "141.61748504638672\n"
     ]
    }
   ],
   "source": [
    "if not is_trained:\n",
    "    ini_time = time.time()\n",
    "    if net_type == 'ZIPPER':\n",
    "        network = training.train_zipper(network, train_dataloader,\n",
    "                                        train_dataset, test_dataset,\n",
    "                                        monitor=True,\n",
    "                                        outfile_prefix=f\"{dataset_name}/{dataset_name}_{net_type}\")\n",
    "    else:\n",
    "        if net_type == 'CNN':\n",
    "            datatype = 'image'\n",
    "        elif net_type == 'RNN':\n",
    "            datatype = 'lightcurve'\n",
    "        else:\n",
    "            raise ValueError('`net_type` {net_type} not recognised')\n",
    "        network = training.train_single(network, train_dataloader, \n",
    "                                    train_dataset, test_dataset,\n",
    "                                    datatype, monitor=True,\n",
    "                                    outfile_prefix=f\"{dataset_name}/{dataset_name}_{net_type}\")\n",
    "    print(time.time() - ini_time)"
   ]
  },
  {
   "cell_type": "markdown",
   "id": "e01482e3",
   "metadata": {},
   "source": [
    "[Go back to top.](#index)\n",
    "\n",
    "### 4.1. Save performance<a name=\"savePerformance\"></a>"
   ]
  },
  {
   "cell_type": "code",
   "execution_count": 26,
   "id": "cefeaec7",
   "metadata": {},
   "outputs": [
    {
     "name": "stdout",
     "output_type": "stream",
     "text": [
      "Saving results\n"
     ]
    }
   ],
   "source": [
    "if not is_trained:\n",
    "    print(\"Saving results\")\n",
    "    # Save the performance\n",
    "    save.save_performance(dataset_name, dataset_name, net_type, network, test_dataset)\n",
    "    save.save_performance(dataset_name, dataset_name, net_type, network, train_dataset, train=True)"
   ]
  },
  {
   "cell_type": "markdown",
   "id": "26934d76",
   "metadata": {},
   "source": [
    "[Go back to top.](#index)\n",
    "\n",
    "### 4.2. Load network<a name=\"loadNetwork\"></a>\n",
    "\n",
    "If the network was previously ran, simply load it."
   ]
  },
  {
   "cell_type": "code",
   "execution_count": 27,
   "id": "2827597b",
   "metadata": {},
   "outputs": [],
   "source": [
    "monitor_table = pd.read_csv(directory+f'/{directory}_{net_type}_monitoring.csv', sep=',')"
   ]
  },
  {
   "cell_type": "code",
   "execution_count": 28,
   "id": "bb92ca71",
   "metadata": {},
   "outputs": [],
   "source": [
    "if is_trained:\n",
    "    network = network_types[net_type]\n",
    "    network.load_state_dict(torch.load(directory+f'/{directory}_{net_type}_network.pt'))"
   ]
  },
  {
   "cell_type": "code",
   "execution_count": 29,
   "id": "ff11a1f2",
   "metadata": {},
   "outputs": [
    {
     "data": {
      "text/plain": [
       "RNN_single(\n",
       "  (rnn): LSTM(4, 128, num_layers=2, batch_first=True)\n",
       "  (out): Linear(in_features=128, out_features=25, bias=True)\n",
       "  (out2): Linear(in_features=25, out_features=3, bias=True)\n",
       ")"
      ]
     },
     "execution_count": 29,
     "metadata": {},
     "output_type": "execute_result"
    }
   ],
   "source": [
    "network"
   ]
  },
  {
   "cell_type": "code",
   "execution_count": 30,
   "id": "d16a18ac",
   "metadata": {
    "scrolled": true
   },
   "outputs": [
    {
     "data": {
      "text/plain": [
       "OrderedDict([('rnn.weight_ih_l0',\n",
       "              tensor([[ 0.2621,  0.2426, -0.1595, -0.0334],\n",
       "                      [-0.0606,  0.0166,  0.0740,  0.1264],\n",
       "                      [-0.0512,  0.1925,  0.1086,  0.0138],\n",
       "                      ...,\n",
       "                      [-0.0060, -0.0606, -0.1519, -0.2607],\n",
       "                      [-0.0282, -0.0708, -0.1611, -0.2395],\n",
       "                      [ 0.0081, -0.3645, -0.3284, -0.2073]])),\n",
       "             ('rnn.weight_hh_l0',\n",
       "              tensor([[ 0.1577, -0.2527,  0.1046,  ..., -0.0633,  0.0725, -0.0149],\n",
       "                      [-0.1198,  0.0741, -0.0776,  ...,  0.0472,  0.0067,  0.0518],\n",
       "                      [-0.2271,  0.0322, -0.1861,  ...,  0.1719, -0.0053, -0.1695],\n",
       "                      ...,\n",
       "                      [-0.0558,  0.0599, -0.1378,  ...,  0.0351, -0.0626, -0.0960],\n",
       "                      [ 0.0698, -0.0495,  0.0003,  ...,  0.0311, -0.0157, -0.0266],\n",
       "                      [ 0.0686,  0.1141, -0.1873,  ..., -0.0141, -0.0772, -0.0088]])),\n",
       "             ('rnn.bias_ih_l0',\n",
       "              tensor([ 4.5772e-02,  8.5807e-02,  8.3915e-02, -2.8667e-02, -2.5606e-01,\n",
       "                       3.8175e-03, -1.2466e-01,  9.1708e-02,  4.5232e-03, -2.4486e-01,\n",
       "                       1.0261e-02, -1.3232e-01, -1.5668e-01, -5.5069e-02, -3.9144e-02,\n",
       "                      -2.1116e-02, -2.3201e-01,  4.8002e-02, -2.4548e-02, -1.3960e-01,\n",
       "                      -1.7754e-01, -6.8322e-02,  3.1023e-02, -6.8560e-02, -1.3064e-01,\n",
       "                      -2.4017e-01, -2.1865e-01,  8.2733e-02, -3.8510e-02, -7.3806e-02,\n",
       "                      -7.3020e-03, -3.0018e-01, -8.6790e-02, -1.8562e-01, -2.1554e-02,\n",
       "                      -9.3568e-02,  6.5661e-02, -1.4511e-03, -6.0649e-02,  3.0408e-02,\n",
       "                       8.0052e-02,  6.4641e-01, -4.3958e-02, -3.4349e-02, -1.7035e-01,\n",
       "                       1.7775e-02, -9.9918e-02, -1.9602e-01, -3.7610e-02, -5.3731e-02,\n",
       "                      -1.5903e-01, -1.0232e-01, -1.1605e-01, -1.2583e-01, -2.2599e-02,\n",
       "                      -1.0266e-01, -2.1100e-02, -5.4191e-02, -2.4519e-01, -2.7135e-01,\n",
       "                      -5.5166e-02, -1.5476e-01,  7.9477e-02, -3.3576e-02, -2.3350e-01,\n",
       "                      -1.5603e-01, -8.9311e-02,  1.5849e-02,  1.1532e-01, -7.3000e-02,\n",
       "                       8.3915e-02, -1.3137e-03, -6.9258e-02, -2.7993e-01, -1.4662e-01,\n",
       "                      -9.9506e-02, -1.5166e-01,  2.1452e-01,  1.6847e-01, -1.1700e-01,\n",
       "                      -9.7866e-02, -1.5848e-01, -3.5974e-02,  8.5039e-02, -1.6054e-01,\n",
       "                       8.8642e-02,  1.7318e-02, -6.6458e-03,  9.5121e-02, -9.9688e-02,\n",
       "                      -8.4845e-02, -1.2048e-01, -1.3127e-01,  7.7345e-02, -1.2624e-01,\n",
       "                      -4.9193e-02, -5.2011e-02, -1.9035e-01, -9.3266e-02, -3.5938e-02,\n",
       "                       8.2966e-02, -1.7774e-02, -1.3692e-01,  7.6689e-02, -2.7620e-01,\n",
       "                      -1.8197e-01, -1.1978e-01, -4.3142e-02, -1.7220e-01, -5.1798e-02,\n",
       "                       1.7984e-02,  1.0415e-01, -1.2662e-01,  1.3286e-01, -1.5129e-01,\n",
       "                      -6.4049e-02, -1.8141e-01, -2.0769e-01,  2.2657e-01, -2.6622e-01,\n",
       "                      -4.9795e-02, -1.0036e-01, -2.2305e-01,  3.3928e-03,  2.1349e-01,\n",
       "                      -1.6801e-01, -1.9441e-01, -2.5026e-01,  1.4532e-02, -2.5243e-01,\n",
       "                       1.2168e-02, -3.5932e-02, -1.9563e-01,  9.1283e-02, -9.1172e-02,\n",
       "                       4.8886e-02, -3.1717e-02, -1.6134e-01, -1.8930e-01, -2.0743e-01,\n",
       "                      -1.3688e-01, -7.1664e-03, -1.0647e-01,  3.2191e-02, -1.4802e-01,\n",
       "                       4.0544e-02,  3.4058e-02, -1.5309e-01, -1.1330e-01, -5.8226e-02,\n",
       "                      -9.3863e-02, -1.7743e-02, -2.6713e-01, -7.3134e-02, -1.6406e-01,\n",
       "                      -1.0898e-01,  3.4008e-02, -1.1965e-01, -2.3451e-01, -1.1779e-01,\n",
       "                       1.5500e-02, -1.4490e-01, -8.8856e-02, -9.5159e-02, -4.4124e-02,\n",
       "                       1.4913e-02, -2.1142e-01,  3.3277e-02,  3.0001e-03, -4.7362e-01,\n",
       "                      -1.5521e-01,  3.5338e-02, -2.4939e-01, -7.8781e-02, -7.2505e-02,\n",
       "                      -1.3746e-01, -1.0570e-01, -6.2381e-02, -1.6363e-01, -2.6835e-02,\n",
       "                      -5.7676e-02, -1.1138e-01, -2.5493e-01, -8.0486e-02, -1.5636e-01,\n",
       "                       1.6912e-02, -1.5561e-01, -1.5911e-01,  2.6049e-02, -2.3532e-01,\n",
       "                       1.6145e-02, -4.9976e-02, -1.4323e-01, -1.9803e-01, -6.5536e-02,\n",
       "                      -1.0260e-02, -6.6066e-02, -1.7687e-01, -1.9250e-02, -1.9871e-02,\n",
       "                      -1.2408e-01, -1.6859e-01, -4.1568e-02, -1.7369e-01, -2.4162e-01,\n",
       "                      -5.5525e-02, -7.1734e-02, -7.0894e-02, -1.0217e-01, -1.5062e-01,\n",
       "                      -3.0399e-02,  8.8062e-02, -1.9744e-02,  2.7236e-02, -2.2275e-01,\n",
       "                      -1.8769e-01, -5.6479e-03, -1.8420e-01, -1.6544e-01, -1.1640e-01,\n",
       "                      -4.3235e-02,  6.4538e-02, -1.4194e-01, -5.7411e-02, -3.6517e-02,\n",
       "                      -8.4255e-02, -6.2537e-02, -9.7823e-02, -5.5285e-02, -5.0225e-02,\n",
       "                      -6.8569e-02, -6.5013e-02, -1.1349e-01, -1.0737e-01, -1.7134e-01,\n",
       "                      -1.0958e-03, -1.3413e-01, -1.7644e-01, -4.2390e-02, -2.1005e-01,\n",
       "                      -1.4852e-01,  3.4883e-02, -5.4148e-02, -4.6921e-02, -1.8293e-01,\n",
       "                      -5.1418e-02, -2.8145e-01, -1.3918e-01,  5.8366e-03, -1.4553e-02,\n",
       "                      -2.1576e-01,  2.9632e-02,  1.6369e-02, -1.4979e-02, -8.5022e-02,\n",
       "                      -7.1819e-02,  7.3876e-02,  1.1777e-01, -4.3337e-02, -1.0068e-01,\n",
       "                      -5.8003e-02,  7.9514e-02, -3.8090e-02, -1.2538e-01, -4.9302e-02,\n",
       "                       6.3047e-03,  3.5895e-03,  3.2549e-02,  2.2759e-02, -1.1295e-01,\n",
       "                       7.9863e-02, -4.2230e-02,  5.8368e-03,  1.7815e-02, -1.0467e-02,\n",
       "                       2.4275e-02,  3.8629e-02,  2.9265e-02, -7.6698e-02,  2.3344e-02,\n",
       "                      -1.2897e-02,  7.3313e-03, -1.1192e-02,  8.9630e-02, -1.9940e-02,\n",
       "                       7.8352e-02, -1.9738e-03, -1.3005e-01,  4.5663e-02, -1.8467e-03,\n",
       "                       1.2624e-01,  4.8579e-02, -7.7746e-02,  4.0611e-02,  1.6276e-02,\n",
       "                       4.0153e-02, -9.8288e-02,  1.4312e-01, -3.3379e-02, -1.8418e-02,\n",
       "                      -2.9431e-02, -9.9912e-03, -9.0842e-02, -4.9160e-02,  5.6782e-02,\n",
       "                       8.2280e-02, -9.1524e-02,  1.2353e-01,  8.3035e-02, -3.9703e-02,\n",
       "                      -1.0353e-01, -1.0355e-02,  3.0998e-02, -1.7928e-02, -2.2528e-02,\n",
       "                      -1.7262e-02, -1.0502e-01,  6.6621e-02,  1.7751e-02,  1.7915e-03,\n",
       "                      -3.0226e-02, -1.3969e-02, -1.0299e-01, -4.0989e-02, -1.6864e-02,\n",
       "                       5.8662e-02, -8.7849e-02, -8.1058e-02, -7.5329e-04,  3.0119e-02,\n",
       "                      -7.8078e-02,  6.4672e-03, -2.3739e-02,  8.1047e-02, -5.8354e-02,\n",
       "                       3.4579e-02, -8.6218e-02,  3.3344e-02,  4.3254e-02,  8.2118e-02,\n",
       "                       7.6480e-02,  1.1866e-02,  6.0882e-02, -3.0618e-02,  3.8439e-03,\n",
       "                      -1.3426e-01, -8.3968e-02, -7.2782e-02,  2.4956e-02, -5.6471e-02,\n",
       "                       3.6030e-02,  4.4289e-02, -9.6049e-02, -2.3158e-05, -3.4777e-02,\n",
       "                       5.5409e-02, -1.1669e-01,  3.1719e-02,  5.0705e-02, -9.2684e-02,\n",
       "                       1.0530e-01,  2.6834e-02,  1.3172e-02, -5.5155e-02, -5.3389e-02,\n",
       "                       1.4537e-02,  1.3875e-02,  1.3008e-01,  7.2129e-02,  8.6920e-02,\n",
       "                      -1.3178e-02, -2.0775e-02, -3.5989e-02, -2.4463e-02, -3.8544e-02,\n",
       "                       2.6541e-02,  1.9315e-02,  1.2504e-01, -2.2647e-02, -2.4328e-02,\n",
       "                      -1.3263e-01,  5.3262e-02, -8.6764e-02, -4.3537e-02, -6.2664e-02,\n",
       "                       2.9015e-02,  1.1201e-02,  3.2601e-02, -1.3025e-01,  3.6458e-02,\n",
       "                      -8.6360e-02, -4.7968e-02,  4.3230e-02, -1.7631e-01, -4.4741e-02,\n",
       "                      -2.2489e-01, -1.7568e-01, -3.1722e-02, -8.1715e-02, -5.8004e-02,\n",
       "                      -1.7362e-01,  5.8677e-02,  1.9060e-02, -2.4298e-01, -1.8888e-01,\n",
       "                      -1.0350e-01, -1.0194e-02, -1.1550e-01, -1.8701e-01, -1.2527e-01,\n",
       "                      -1.9622e-01, -4.4789e-02, -1.0368e-01, -9.0821e-04,  4.5768e-02,\n",
       "                      -1.5487e-01, -9.0610e-02, -1.5488e-01, -1.7146e-02, -2.0230e-01,\n",
       "                       2.2190e-02, -1.2329e-02, -2.3072e-01,  2.1488e-02,  4.7286e-02,\n",
       "                       5.4924e-01, -1.9121e-01, -1.9820e-02, -2.8652e-01,  2.3233e-02,\n",
       "                      -9.8644e-03, -2.2102e-01, -3.4445e-02, -1.5823e-01, -1.7346e-01,\n",
       "                      -1.8760e-01, -9.0156e-02, -2.3592e-01, -1.0683e-01, -3.4809e-02,\n",
       "                      -2.6522e-02, -8.0868e-02, -1.5114e-01, -1.4868e-01,  5.2125e-02,\n",
       "                      -2.0942e-01,  1.3342e-02, -5.6127e-02, -9.6288e-02, -1.7225e-01,\n",
       "                      -7.3265e-02, -3.1012e-02,  5.8747e-02, -2.5672e-02, -7.0602e-02,\n",
       "                       1.3606e-02, -1.5365e-01, -2.8366e-01, -1.2049e-02, -1.1861e-01,\n",
       "                      -1.1158e-01,  1.0269e-01,  2.7761e-01, -3.4114e-02, -6.7337e-02,\n",
       "                      -9.8141e-02, -1.8989e-03,  4.7954e-02, -1.3964e-01, -4.1494e-02,\n",
       "                      -5.2488e-02, -9.8694e-02,  1.1599e-01, -6.9697e-02, -1.0249e-01,\n",
       "                      -9.7844e-02, -1.3417e-01,  1.3017e-01, -1.9342e-01, -8.9386e-02,\n",
       "                      -6.7990e-02, -1.7041e-01, -1.0381e-01, -1.5021e-01,  1.3143e-02,\n",
       "                      -1.2611e-01, -5.4839e-02,  1.5947e-01, -1.4521e-01, -1.6600e-01,\n",
       "                      -1.7915e-01,  6.6258e-02, -2.8630e-01, -7.1534e-02, -1.4353e-02,\n",
       "                       1.0145e-01,  2.6859e-02,  1.4958e-02, -1.6046e-01, -1.7357e-01,\n",
       "                      -1.4676e-01, -2.0147e-01,  3.4982e-01, -2.3813e-01, -2.3584e-02,\n",
       "                      -1.2889e-01, -2.2881e-01, -3.6362e-02,  8.6476e-02, -6.6142e-02,\n",
       "                      -1.9444e-01, -1.2795e-01])),\n",
       "             ('rnn.bias_hh_l0',\n",
       "              tensor([ 2.8079e-02,  8.2020e-02, -8.2284e-05,  3.4615e-02, -1.3791e-01,\n",
       "                       8.1129e-02, -1.3157e-01,  1.3437e-01, -4.6640e-03, -2.4235e-01,\n",
       "                       3.5603e-03, -1.7715e-01, -2.2900e-01,  4.1130e-02, -6.5753e-02,\n",
       "                      -3.3438e-02, -2.4257e-01,  9.1820e-02,  3.8279e-02, -1.8598e-01,\n",
       "                      -1.0222e-01, -1.6262e-01, -7.1807e-02,  2.3370e-02, -1.1568e-01,\n",
       "                      -1.2414e-01, -2.2473e-01,  7.9954e-02,  3.4342e-02, -1.3187e-01,\n",
       "                       4.0034e-02, -2.4296e-01, -1.6507e-03, -1.4488e-01, -1.5925e-01,\n",
       "                      -2.5711e-01,  1.1884e-02, -1.0976e-01, -1.2013e-01, -4.0227e-03,\n",
       "                       7.7327e-02,  5.6190e-01, -9.7168e-02,  2.0386e-03, -1.8510e-01,\n",
       "                       1.3536e-01, -3.5043e-02, -1.6062e-01,  2.2882e-02, -8.0545e-02,\n",
       "                      -1.2492e-01, -1.6246e-01, -1.0523e-01, -1.9652e-01, -4.1134e-02,\n",
       "                      -1.5479e-01, -1.5111e-02, -7.2963e-02, -1.8067e-01, -2.6995e-01,\n",
       "                      -7.2255e-02, -1.4163e-01,  6.4010e-02,  4.1777e-02, -1.3959e-01,\n",
       "                      -2.8581e-01, -9.1053e-02,  5.7062e-03,  2.3681e-02,  2.2914e-02,\n",
       "                       5.8016e-02,  5.4120e-02, -1.7913e-01, -1.9639e-01, -7.7032e-02,\n",
       "                      -1.3381e-01, -1.1077e-01,  1.0219e-01,  3.0490e-01, -2.0071e-01,\n",
       "                      -2.0770e-01, -2.0895e-01, -1.6666e-02,  7.4238e-02, -1.7269e-01,\n",
       "                      -4.4373e-02, -3.6423e-02, -7.0682e-02,  1.4530e-01, -1.0406e-01,\n",
       "                      -1.6174e-01, -1.6901e-01, -2.2761e-01,  2.1121e-02, -1.4600e-01,\n",
       "                      -2.0218e-01,  4.5763e-02, -2.2103e-01, -7.1124e-02, -1.2062e-01,\n",
       "                      -1.6971e-02, -8.3412e-02, -1.7210e-01,  1.1690e-01, -2.9515e-01,\n",
       "                      -5.2061e-02, -5.1296e-02,  5.4050e-02, -2.0433e-01, -1.5560e-01,\n",
       "                       1.1750e-01,  1.5106e-01, -2.8628e-02,  3.6844e-02, -5.8732e-02,\n",
       "                      -1.2562e-01, -2.5761e-01, -2.0789e-01,  3.3829e-01, -2.4459e-01,\n",
       "                      -7.6316e-02, -9.9617e-02, -2.3629e-01,  7.6053e-02,  2.3626e-01,\n",
       "                      -1.3353e-01, -2.7674e-01, -2.1011e-01,  8.3593e-02, -1.8488e-01,\n",
       "                       1.0229e-01,  1.4668e-02, -1.5904e-01, -8.6769e-03, -1.5862e-01,\n",
       "                       1.2889e-01,  2.3484e-02, -8.2646e-02, -1.9878e-01, -9.0420e-02,\n",
       "                      -1.7796e-01,  1.6555e-02, -1.3443e-01,  2.5223e-02, -9.9510e-02,\n",
       "                       8.6396e-02, -1.2898e-02, -1.9219e-02, -9.8947e-02, -1.0390e-01,\n",
       "                      -4.1523e-02, -6.7193e-02, -2.5101e-01, -4.5517e-02,  2.0020e-03,\n",
       "                       8.1284e-03, -5.4808e-02, -1.0003e-01, -3.6994e-01, -2.5246e-01,\n",
       "                       1.5946e-02, -1.2650e-01, -1.5351e-02, -1.3061e-01, -6.8178e-02,\n",
       "                       1.7559e-02, -1.8673e-01,  5.6213e-02, -5.4121e-02, -5.6607e-01,\n",
       "                      -1.4554e-01,  3.5187e-02, -1.2338e-01, -1.7711e-01, -1.1394e-01,\n",
       "                      -9.5116e-02, -1.4132e-01, -9.6609e-02, -1.7770e-01, -8.4889e-02,\n",
       "                      -8.9080e-02, -1.3235e-01, -2.1977e-01, -1.4014e-01, -7.2686e-02,\n",
       "                      -4.7838e-02, -1.6496e-01, -1.9655e-01, -8.1101e-02, -2.4116e-01,\n",
       "                      -4.6972e-02,  4.5069e-02, -8.9602e-02, -1.5367e-01, -1.3579e-01,\n",
       "                       4.2404e-02, -7.4461e-02, -7.0182e-02, -2.0957e-02,  2.1194e-02,\n",
       "                      -2.3390e-01, -2.0759e-01, -5.8844e-02, -2.1954e-01, -1.9128e-01,\n",
       "                      -9.9622e-02, -1.3514e-01, -1.9001e-01, -2.9783e-02, -4.6377e-02,\n",
       "                      -5.8972e-02, -2.0700e-02, -8.9918e-02,  7.4891e-03, -2.4391e-01,\n",
       "                      -2.0495e-01, -8.5512e-02, -6.8197e-02, -1.4757e-01, -1.3498e-01,\n",
       "                      -1.2605e-01,  5.6031e-02, -4.9479e-02, -1.3312e-01, -5.0618e-02,\n",
       "                      -2.8140e-02, -1.9670e-01, -9.3222e-02, -6.2794e-02, -2.9849e-03,\n",
       "                      -1.7946e-01, -1.8450e-01, -1.2941e-01, -8.0717e-02, -1.3206e-01,\n",
       "                       6.2362e-02, -1.2564e-01, -6.5798e-02,  9.5767e-02, -2.0701e-01,\n",
       "                      -1.3759e-01,  1.5114e-01, -1.5990e-01, -9.9967e-02, -2.2449e-01,\n",
       "                      -1.4670e-01, -3.4314e-01, -1.0489e-01,  6.9496e-02, -5.0986e-02,\n",
       "                      -2.1792e-01,  1.0572e-02,  2.0945e-02, -1.2991e-01, -1.1439e-01,\n",
       "                      -1.1210e-01,  2.2687e-02, -1.4559e-02, -7.5983e-02, -5.2013e-02,\n",
       "                       8.1184e-02,  1.0265e-01, -1.4723e-02,  1.4331e-02, -6.8730e-02,\n",
       "                      -2.3361e-02, -1.1003e-01, -2.6752e-02, -7.9323e-03, -2.7616e-03,\n",
       "                      -2.5167e-02, -1.3189e-01,  4.9998e-02,  1.0487e-01, -9.2797e-03,\n",
       "                       5.8390e-02,  3.6738e-02,  1.5669e-02,  9.6662e-02,  4.3707e-02,\n",
       "                       1.9506e-02,  5.7318e-05,  4.2690e-03,  1.2214e-01, -4.3646e-02,\n",
       "                       4.4746e-02, -1.1485e-01, -8.3438e-02,  4.3056e-02,  2.9961e-02,\n",
       "                      -1.0612e-02, -8.6399e-02, -7.0121e-02,  3.7969e-02, -4.4775e-02,\n",
       "                       8.1575e-02, -1.0608e-01,  1.3998e-01,  1.1293e-01, -1.3455e-01,\n",
       "                      -1.4487e-01, -1.4995e-02, -2.7837e-02, -1.0506e-02,  3.6641e-02,\n",
       "                       1.3307e-01, -9.5227e-02,  2.1778e-02, -7.7216e-02, -1.0291e-01,\n",
       "                      -9.3206e-02, -2.2583e-02, -1.2484e-01,  4.6974e-02,  9.4222e-02,\n",
       "                       5.0369e-02, -7.1014e-02,  2.8006e-02,  9.0033e-02,  7.7793e-02,\n",
       "                       2.9675e-02,  3.6447e-02,  2.8916e-02, -4.4628e-02, -5.8248e-02,\n",
       "                       4.5083e-04, -9.7665e-02, -5.9986e-02, -1.0829e-01,  9.1148e-02,\n",
       "                       3.8190e-02, -3.5046e-02,  1.8022e-02,  1.4180e-01,  7.3964e-02,\n",
       "                       1.6874e-02, -5.8326e-02, -8.0451e-02,  3.4704e-02,  8.4900e-02,\n",
       "                       1.0483e-01,  1.1236e-01,  7.5702e-02, -4.6697e-02,  1.4337e-01,\n",
       "                      -1.4898e-02, -2.6087e-02, -1.1457e-01,  1.4867e-02, -1.0451e-01,\n",
       "                      -2.4891e-02,  7.9036e-02, -5.6256e-03, -2.8743e-02,  1.2479e-01,\n",
       "                       6.5792e-02, -1.6037e-01,  5.5535e-02,  2.4954e-02, -1.8689e-01,\n",
       "                      -4.3700e-02, -1.0155e-01,  4.3264e-02, -7.0226e-02, -7.0225e-02,\n",
       "                       9.1499e-02,  9.7668e-02,  2.0292e-02,  8.9013e-03,  8.3666e-02,\n",
       "                      -4.0913e-02,  7.0197e-03, -5.5789e-02,  1.0822e-01, -6.2548e-02,\n",
       "                      -4.2018e-02, -3.0707e-02,  1.1297e-01,  7.9314e-02, -1.2100e-01,\n",
       "                      -9.2126e-02,  6.5308e-02, -1.6448e-02,  2.2384e-02,  8.4247e-03,\n",
       "                       4.9154e-02,  2.3172e-02,  4.8475e-02, -1.1711e-01,  1.4108e-01,\n",
       "                      -1.5092e-01,  5.0298e-02, -8.7068e-02, -1.1320e-01, -1.4335e-01,\n",
       "                      -1.8307e-01, -2.3563e-01, -2.1107e-02, -4.2250e-02, -1.3051e-01,\n",
       "                      -1.4052e-01,  2.1406e-02,  5.9100e-02, -1.4791e-01, -2.1102e-01,\n",
       "                      -6.8229e-02, -4.5474e-02, -9.9775e-02, -6.5314e-02, -1.0812e-01,\n",
       "                      -1.7168e-01, -2.5917e-02, -1.8558e-02,  5.4071e-03,  6.0031e-02,\n",
       "                      -2.6082e-01,  1.8034e-02, -1.6316e-01, -1.3547e-01, -1.2685e-01,\n",
       "                      -6.0797e-02, -3.9377e-02, -2.2050e-01,  8.0038e-02, -6.6670e-02,\n",
       "                       6.4563e-01, -7.2854e-02,  3.3494e-03, -2.3103e-01, -1.4090e-02,\n",
       "                      -4.3010e-02, -1.6148e-01,  1.6393e-03, -1.3994e-01, -1.8875e-01,\n",
       "                      -2.3685e-01, -9.3341e-02, -2.1753e-01, -1.5174e-01, -3.8303e-02,\n",
       "                      -7.4890e-02, -5.9108e-02, -2.2487e-01, -1.5795e-01,  2.0564e-02,\n",
       "                      -9.5466e-02, -9.4309e-02,  2.7038e-02, -1.3452e-01, -1.5381e-01,\n",
       "                      -1.3887e-01,  2.4677e-02, -1.0483e-02, -6.3185e-02, -2.4406e-02,\n",
       "                      -3.2416e-02, -2.5317e-01, -1.8612e-01, -7.1487e-02, -1.3496e-01,\n",
       "                      -1.5303e-01,  1.5493e-01,  1.6645e-01, -4.4976e-02, -5.3315e-02,\n",
       "                      -5.2693e-02, -1.1073e-01, -9.5836e-03, -9.1296e-02,  6.3310e-02,\n",
       "                      -1.2219e-01, -7.6490e-02,  4.7725e-02, -1.3988e-01, -1.4474e-01,\n",
       "                      -5.2671e-02, -1.6688e-01,  5.3898e-03, -2.5227e-01, -1.4162e-01,\n",
       "                       6.1638e-02, -1.4401e-01, -9.9237e-02, -7.8327e-02,  4.3673e-02,\n",
       "                      -1.3494e-01, -1.0824e-01,  2.3546e-01, -2.0580e-01, -1.5798e-01,\n",
       "                      -1.6837e-01,  9.8891e-02, -1.4422e-01, -1.9775e-01,  2.4438e-02,\n",
       "                       2.2311e-01, -3.7813e-02,  7.4916e-02, -1.2779e-01, -2.0428e-02,\n",
       "                      -1.6201e-01, -1.8628e-01,  3.1939e-01, -1.2198e-01, -9.4986e-02,\n",
       "                      -1.1647e-01, -2.3019e-01, -3.1075e-02,  1.5102e-01, -5.1112e-02,\n",
       "                      -1.7234e-01, -1.5962e-01])),\n",
       "             ('rnn.weight_ih_l1',\n",
       "              tensor([[ 0.0473, -0.1086,  0.0491,  ..., -0.1573,  0.0283,  0.1368],\n",
       "                      [ 0.0646, -0.1439,  0.1913,  ..., -0.1234, -0.0166,  0.0066],\n",
       "                      [-0.0412, -0.0497,  0.0519,  ...,  0.0247, -0.0659,  0.0193],\n",
       "                      ...,\n",
       "                      [-0.0757,  0.0312, -0.1047,  ...,  0.0912, -0.0354, -0.1118],\n",
       "                      [-0.0950,  0.0260, -0.0246,  ...,  0.0778, -0.0584,  0.0633],\n",
       "                      [ 0.2528,  0.1558, -0.1111,  ...,  0.0186, -0.0160,  0.0665]])),\n",
       "             ('rnn.weight_hh_l1',\n",
       "              tensor([[ 0.1012,  0.1310,  0.0160,  ..., -0.0752, -0.0937, -0.0553],\n",
       "                      [ 0.1146,  0.1136, -0.0118,  ..., -0.0138, -0.0049, -0.1170],\n",
       "                      [-0.1032, -0.0675, -0.1359,  ...,  0.0246, -0.0991,  0.1616],\n",
       "                      ...,\n",
       "                      [-0.0171,  0.0056,  0.0195,  ...,  0.1332, -0.0132,  0.1880],\n",
       "                      [-0.0753, -0.1457,  0.0062,  ..., -0.0039, -0.1079,  0.1243],\n",
       "                      [-0.1365, -0.1429,  0.1122,  ...,  0.0195, -0.0318,  0.0948]])),\n",
       "             ('rnn.bias_ih_l1',\n",
       "              tensor([ 1.4076e-01,  2.3198e-01, -2.3639e-01,  1.4386e-01,  1.9079e-01,\n",
       "                       1.1096e-01, -2.6387e-01, -1.7151e-01,  7.8330e-02,  1.0607e-02,\n",
       "                      -2.4439e-01,  1.4895e-01, -2.2486e-01, -9.4014e-02, -1.5426e-01,\n",
       "                      -1.9808e-01, -2.1002e-01, -2.4713e-01, -2.3667e-01, -2.8713e-01,\n",
       "                      -1.6132e-01, -6.2469e-02, -6.4992e-03,  1.9709e-01,  1.0406e-01,\n",
       "                      -2.9496e-01, -8.9228e-02,  2.0707e-01, -2.4983e-01, -5.5355e-02,\n",
       "                      -3.3261e-01,  2.2316e-01, -1.2558e-01, -2.0183e-01, -1.3341e-01,\n",
       "                      -1.3039e-01, -2.4405e-01, -2.1060e-01, -2.8191e-01, -1.0950e-01,\n",
       "                      -1.4813e-01, -3.1851e-01, -1.4697e-01,  2.0887e-01, -2.2597e-01,\n",
       "                       1.9469e-01, -1.7426e-01,  1.0339e-01,  1.1325e-01, -2.1372e-01,\n",
       "                       7.1791e-02, -1.4230e-01, -2.6854e-01, -2.0035e-01, -2.9338e-01,\n",
       "                      -2.3190e-01,  1.8776e-01,  1.9366e-01, -2.1081e-01, -2.8989e-01,\n",
       "                      -2.2510e-01,  1.3476e-01, -1.0335e-01, -2.1587e-01,  1.1225e-01,\n",
       "                      -1.1162e-01, -2.2465e-01, -8.3859e-02, -1.5176e-01, -1.9024e-01,\n",
       "                      -9.2990e-02, -7.5983e-02, -2.3253e-01, -2.4423e-01, -1.9619e-01,\n",
       "                      -1.3398e-01, -2.9776e-01, -1.3210e-01, -1.2996e-01, -8.2611e-02,\n",
       "                      -1.9337e-02, -1.7042e-01, -2.0042e-01,  1.5843e-01,  1.7162e-01,\n",
       "                      -2.0020e-01, -1.9851e-01,  2.5343e-01,  4.8312e-02,  1.3292e-02,\n",
       "                      -2.6933e-01,  1.6404e-01,  1.6566e-01,  1.8837e-01,  1.9343e-01,\n",
       "                      -2.2186e-01, -1.5263e-01, -2.0758e-01,  1.3025e-01, -5.5040e-02,\n",
       "                      -1.8437e-01, -1.7710e-01, -1.6983e-01,  4.0680e-02, -2.4636e-01,\n",
       "                       9.0718e-03, -2.9714e-01, -2.3885e-01, -1.0660e-01,  1.4408e-01,\n",
       "                      -2.0716e-01, -1.2071e-01, -2.4009e-01, -2.1406e-01, -2.5681e-01,\n",
       "                      -1.0373e-01, -1.5591e-01, -2.8508e-01, -2.7521e-01,  8.3491e-02,\n",
       "                      -1.0813e-01,  1.6645e-01, -1.3958e-01, -2.3817e-01, -6.9125e-03,\n",
       "                      -2.6232e-01, -1.0088e-01,  1.7858e-01,  2.3805e-01,  2.6607e-01,\n",
       "                      -2.3968e-01,  2.6167e-01,  2.7858e-01,  9.9479e-02, -1.0590e-01,\n",
       "                      -1.4353e-01,  1.9264e-01,  8.0391e-02, -1.8823e-01,  2.8577e-01,\n",
       "                      -2.1752e-01, -7.1997e-02, -2.4075e-01, -2.0451e-01, -1.8224e-01,\n",
       "                      -1.5687e-01, -3.7396e-02, -1.1045e-01, -1.5493e-01, -5.5168e-02,\n",
       "                      -2.6151e-01,  1.7345e-01,  2.0233e-01, -1.1732e-01, -1.2124e-01,\n",
       "                       2.2316e-01, -1.2571e-01, -6.6847e-02, -2.8985e-01,  1.4065e-01,\n",
       "                      -2.1213e-01, -7.6280e-02, -1.0526e-01, -1.0963e-01, -1.4440e-01,\n",
       "                      -1.3056e-01, -2.1879e-01, -1.3989e-01, -1.5870e-01, -1.1888e-01,\n",
       "                      -9.7981e-02,  2.0641e-01, -2.3597e-01,  2.0009e-01, -1.6555e-01,\n",
       "                       2.8114e-01,  1.1710e-01, -2.2393e-01,  1.8794e-01, -1.3554e-01,\n",
       "                      -2.4214e-01, -6.6318e-02, -2.6704e-01, -1.2288e-01,  1.6824e-01,\n",
       "                       2.3497e-01, -2.1119e-01, -1.7350e-01, -2.3732e-01,  3.0795e-01,\n",
       "                      -1.4266e-01, -1.5945e-01,  1.4282e-02, -8.0087e-02, -2.4159e-01,\n",
       "                      -3.6527e-02, -5.9715e-02, -1.6839e-01, -1.5183e-01, -1.3559e-01,\n",
       "                      -1.3213e-01, -1.8399e-01, -2.2343e-01, -8.5616e-02, -2.5193e-01,\n",
       "                      -1.3470e-01, -1.5927e-01, -2.4797e-01, -1.2566e-02, -2.3148e-01,\n",
       "                      -1.4943e-01,  2.2851e-01,  2.0655e-01, -1.2719e-01, -2.0874e-01,\n",
       "                       1.9794e-01, -8.9450e-02, -2.3750e-01, -2.8748e-01,  1.9356e-01,\n",
       "                       2.1831e-01,  2.4407e-01,  1.4659e-01, -2.0199e-01, -2.2708e-01,\n",
       "                      -6.9708e-02,  9.0385e-02, -1.1676e-01, -2.2587e-01, -1.4392e-01,\n",
       "                      -1.9838e-01, -8.3858e-02, -1.8201e-01, -4.3546e-02, -2.2828e-01,\n",
       "                      -5.6530e-02, -3.5812e-01,  1.9404e-01, -1.5518e-01, -7.7363e-02,\n",
       "                      -1.9087e-01, -1.6232e-01, -2.1629e-01, -2.1774e-01, -9.2889e-02,\n",
       "                      -2.1759e-01, -2.1706e-01,  1.9120e-01, -3.1191e-01,  1.5852e-01,\n",
       "                      -1.8394e-01, -7.0061e-02, -3.0075e-01, -1.8739e-01, -9.7647e-02,\n",
       "                       2.9270e-01,  1.4155e-01,  2.0473e-01, -7.5541e-03,  2.1025e-01,\n",
       "                       1.8044e-01, -2.0997e-01,  2.1288e-02, -6.0852e-03, -2.0975e-01,\n",
       "                      -3.4584e-02, -3.3300e-02,  2.3680e-01, -1.1397e-01,  3.8708e-02,\n",
       "                      -5.5595e-02,  8.4009e-03,  8.1082e-02, -4.6097e-02, -1.1349e-01,\n",
       "                       1.5584e-02, -2.0127e-02, -1.0144e-01,  3.6222e-03, -8.6883e-02,\n",
       "                      -2.0656e-01,  3.2607e-02,  9.4583e-02,  1.1799e-01, -1.0776e-01,\n",
       "                      -1.0900e-01,  6.4218e-03, -2.0324e-01, -2.4539e-02, -1.0698e-02,\n",
       "                      -7.3221e-02, -2.9521e-02,  1.3909e-01,  1.6733e-02, -1.0911e-01,\n",
       "                      -5.6749e-02, -6.3296e-02, -3.3375e-02,  7.8266e-02,  1.6708e-01,\n",
       "                      -6.3574e-02,  2.2691e-01,  1.1580e-01, -1.6465e-01, -2.2200e-01,\n",
       "                      -3.4159e-02,  1.7017e-01, -1.7411e-02, -1.3886e-01, -1.1118e-01,\n",
       "                       1.7353e-01, -1.5499e-02, -2.2239e-01, -2.1374e-01,  1.6843e-03,\n",
       "                      -1.8619e-02, -2.5598e-02, -1.9448e-01, -6.7902e-02,  1.3161e-02,\n",
       "                       1.8021e-01,  1.0192e-01,  1.4882e-01,  1.2092e-01, -5.0509e-02,\n",
       "                      -4.8819e-02, -4.4695e-03, -5.8505e-02, -3.4392e-02,  1.0429e-01,\n",
       "                      -3.3749e-02, -9.1026e-02,  1.1977e-01, -6.1794e-03,  1.3277e-01,\n",
       "                       1.0036e-01, -6.3342e-03,  3.8896e-02, -3.1077e-02,  1.9705e-01,\n",
       "                       1.4078e-01,  9.8533e-02, -4.4115e-03,  1.9095e-01, -1.0897e-01,\n",
       "                      -6.5913e-02, -1.8762e-03,  1.6247e-01,  1.3059e-01, -7.1670e-02,\n",
       "                       1.0376e-01,  6.6768e-02,  4.9908e-02,  5.9331e-02, -2.0622e-01,\n",
       "                      -6.9378e-02, -2.0803e-02,  2.8362e-02,  5.0469e-03,  1.0601e-01,\n",
       "                      -1.2249e-03, -5.3939e-03,  7.7768e-02, -4.4297e-02,  1.2290e-03,\n",
       "                      -2.2085e-01, -1.3411e-01,  5.2596e-02, -6.0677e-02, -1.0262e-01,\n",
       "                       7.2213e-02,  7.6231e-02,  2.4667e-05,  4.2931e-02, -7.0460e-02,\n",
       "                      -8.5544e-02,  1.1504e-01,  1.3843e-01,  4.8464e-02, -2.8237e-02,\n",
       "                       1.0289e-01, -6.1273e-02,  1.0442e-01, -1.1838e-01, -5.7391e-02,\n",
       "                      -1.7091e-01, -2.5051e-01,  7.6585e-03, -1.0684e-01, -1.1593e-01,\n",
       "                      -1.5999e-01, -1.9408e-01, -9.5384e-02, -1.5589e-02, -3.0013e-01,\n",
       "                       4.5961e-03, -4.1861e-01, -1.1941e-01,  1.7363e-02, -2.8176e-01,\n",
       "                      -1.7633e-01, -2.4395e-01, -6.3843e-02, -1.2677e-01, -2.1468e-01,\n",
       "                      -1.9367e-01,  6.3364e-02, -5.7110e-02, -4.2132e-02, -1.0422e-01,\n",
       "                      -8.0212e-02,  4.3706e-02, -9.6626e-02, -1.3866e-01, -2.6519e-01,\n",
       "                      -6.0497e-02, -8.3119e-02, -1.3655e-01, -1.2080e-01, -2.3111e-01,\n",
       "                      -1.0657e-01, -1.6502e-01, -1.3743e-01, -2.5456e-01, -1.2091e-01,\n",
       "                      -2.6144e-01, -1.4698e-01,  2.4929e-02, -1.7491e-01,  3.1731e-02,\n",
       "                      -2.3432e-01, -1.5167e-01, -1.7621e-01, -2.4457e-01, -8.2352e-02,\n",
       "                      -1.7669e-01, -1.0208e-01, -2.5078e-01, -2.7656e-01, -1.4092e-01,\n",
       "                      -1.6759e-02,  1.2628e-03, -1.6614e-01, -3.8527e-02, -2.1729e-01,\n",
       "                       3.1878e-02, -7.9961e-02, -1.0882e-01, -2.4523e-02, -9.0710e-02,\n",
       "                      -2.0417e-01, -2.3533e-01, -1.6075e-01, -4.0155e-01, -1.6606e-01,\n",
       "                      -2.0113e-01, -1.1186e-01, -1.9483e-01, -1.5682e-01,  8.5031e-03,\n",
       "                      -8.9311e-02, -8.8918e-02, -1.7138e-01, -2.2118e-01,  1.3003e-01,\n",
       "                      -2.2999e-01, -1.7338e-01, -8.7260e-02,  4.3699e-02, -1.2614e-01,\n",
       "                      -1.9473e-01, -1.1622e-01, -1.0638e-03, -5.5289e-02, -2.8917e-01,\n",
       "                       7.0538e-04,  7.4481e-02, -2.2653e-02, -4.5996e-02, -2.9245e-01,\n",
       "                      -2.0238e-03, -2.6860e-01,  2.4211e-02, -1.7549e-01, -8.5255e-02,\n",
       "                      -1.9653e-01, -1.6442e-01, -5.5637e-02, -2.4930e-01, -1.5268e-01,\n",
       "                      -2.2510e-01, -1.1263e-01, -2.7903e-01,  1.7197e-02, -1.5942e-01,\n",
       "                      -2.1961e-01, -1.3067e-01, -1.4466e-01, -2.9331e-01, -1.9588e-01,\n",
       "                      -2.3042e-01, -2.1030e-01, -2.7271e-01, -7.9518e-02, -8.9786e-02,\n",
       "                      -7.1676e-02, -2.2624e-01, -9.1414e-02, -1.3827e-01, -1.2983e-01,\n",
       "                      -3.1840e-01, -4.3284e-02])),\n",
       "             ('rnn.bias_hh_l1',\n",
       "              tensor([ 0.1384,  0.2007, -0.2644,  0.0775,  0.1692,  0.1660, -0.2570, -0.1043,\n",
       "                       0.2327, -0.0572, -0.2841,  0.0378, -0.2361, -0.0561, -0.1594, -0.0769,\n",
       "                      -0.1261, -0.2275, -0.2279, -0.2811, -0.1350, -0.0709, -0.0081,  0.2178,\n",
       "                       0.2435, -0.1851, -0.2560,  0.1724, -0.1278, -0.0012, -0.2229,  0.2151,\n",
       "                      -0.1265, -0.1220, -0.0776, -0.1842, -0.2183, -0.1253, -0.4017, -0.2137,\n",
       "                      -0.2030, -0.2142, -0.1320,  0.2619, -0.1570,  0.1833, -0.2442,  0.0509,\n",
       "                       0.1051, -0.2013,  0.1580, -0.1694, -0.1759, -0.1570, -0.3260, -0.1517,\n",
       "                       0.1408,  0.1987, -0.1082, -0.2232, -0.1559,  0.1983, -0.0059, -0.0959,\n",
       "                       0.1316, -0.1499, -0.0662, -0.1568, -0.0756, -0.2680, -0.0887, -0.0830,\n",
       "                      -0.2159, -0.0790, -0.1449, -0.2023, -0.2232, -0.1734, -0.1559, -0.2147,\n",
       "                       0.0203, -0.0906, -0.1670,  0.1167,  0.2596, -0.1690, -0.0973,  0.2079,\n",
       "                       0.0938,  0.0110, -0.3265,  0.1135,  0.2393,  0.2097,  0.2452, -0.1368,\n",
       "                      -0.0801, -0.2124,  0.1326, -0.0800, -0.0390, -0.2270, -0.1824,  0.0630,\n",
       "                      -0.2125, -0.1493, -0.1733, -0.1492, -0.2170,  0.2019, -0.1093, -0.1221,\n",
       "                      -0.2367, -0.2302, -0.1766, -0.1291, -0.2693, -0.2112, -0.2591,  0.1759,\n",
       "                      -0.0459,  0.1251, -0.1201, -0.1489, -0.1202, -0.2379, -0.1608,  0.1004,\n",
       "                       0.1623,  0.2889, -0.1170,  0.2982,  0.2257,  0.1977, -0.1957, -0.0615,\n",
       "                       0.2149, -0.0019, -0.3134,  0.2554, -0.1804, -0.0850, -0.1699, -0.1636,\n",
       "                      -0.0346, -0.2021, -0.1695, -0.1501, -0.0653, -0.0301, -0.3732,  0.2876,\n",
       "                       0.1941, -0.1177, -0.0521,  0.2728, -0.1572, -0.0288, -0.2496,  0.1202,\n",
       "                      -0.2045, -0.1541, -0.0969, -0.1765, -0.1103, -0.1119, -0.2409, -0.1146,\n",
       "                      -0.2369, -0.2751, -0.0741,  0.2454, -0.3506,  0.1670, -0.0523,  0.2903,\n",
       "                       0.0693, -0.1087,  0.2209, -0.2603, -0.1802, -0.1754, -0.2277, -0.1168,\n",
       "                       0.0958,  0.2941, -0.3000, -0.2001, -0.1732,  0.2693, -0.1538, -0.0926,\n",
       "                       0.0297, -0.1709, -0.1235, -0.1809, -0.1003, -0.2408, -0.1927, -0.0814,\n",
       "                      -0.1150, -0.2600, -0.1737,  0.0331, -0.1460, -0.1793, -0.0600, -0.1309,\n",
       "                      -0.0075, -0.1712, -0.0720,  0.1675,  0.2797, -0.1309, -0.2229,  0.1255,\n",
       "                       0.0204, -0.1391, -0.1641,  0.2784,  0.2077,  0.1866,  0.1998, -0.1931,\n",
       "                      -0.2139, -0.0491,  0.1942, -0.1924, -0.1042, -0.1375, -0.2487, -0.1679,\n",
       "                      -0.1123, -0.0552, -0.2315, -0.0409, -0.2897,  0.2262, -0.1253, -0.0825,\n",
       "                      -0.1255, -0.1153, -0.1034, -0.2234, -0.0978, -0.2260, -0.1465,  0.2272,\n",
       "                      -0.2138,  0.1085, -0.1391, -0.1166, -0.2869, -0.1940, -0.0992,  0.2009,\n",
       "                       0.2323,  0.1549, -0.1476,  0.1751,  0.0955, -0.0963,  0.1106, -0.0065,\n",
       "                      -0.1893, -0.0316, -0.0160,  0.0960, -0.1158,  0.0666, -0.1818,  0.0276,\n",
       "                       0.0176,  0.0426,  0.0198,  0.0272,  0.0931, -0.1398,  0.0638, -0.2387,\n",
       "                      -0.2075, -0.0962,  0.0131,  0.1586, -0.0575, -0.0199,  0.0691, -0.2725,\n",
       "                      -0.0322,  0.0883,  0.0883,  0.0663,  0.0750, -0.0039, -0.0130, -0.0681,\n",
       "                      -0.1228, -0.0603,  0.0857,  0.2108,  0.0564,  0.2472,  0.0496, -0.0744,\n",
       "                      -0.1377, -0.0516,  0.0489,  0.0046, -0.0035, -0.0471,  0.0458,  0.1005,\n",
       "                      -0.2334, -0.1596,  0.0071, -0.1272, -0.0704, -0.0630, -0.0201,  0.1397,\n",
       "                       0.2169,  0.0218,  0.0250,  0.0622, -0.0015, -0.0822, -0.0831, -0.1419,\n",
       "                      -0.1362,  0.0879, -0.1263, -0.1049,  0.0883,  0.0603,  0.0827,  0.0219,\n",
       "                       0.0071,  0.0732, -0.1133,  0.2314,  0.1707,  0.1134,  0.0198,  0.2728,\n",
       "                      -0.0232, -0.0083, -0.0241,  0.1380,  0.1759, -0.2379,  0.2039,  0.1109,\n",
       "                      -0.0203, -0.0805, -0.1523, -0.0510,  0.0063,  0.0723,  0.0873,  0.0755,\n",
       "                       0.0661,  0.1031,  0.0280, -0.1038, -0.0551, -0.2092, -0.0729,  0.0358,\n",
       "                      -0.0664, -0.0761, -0.0136, -0.0341, -0.0764,  0.0057,  0.0363, -0.1584,\n",
       "                       0.0785,  0.2235,  0.0538,  0.0294,  0.1255,  0.0710,  0.1227, -0.1793,\n",
       "                      -0.0841, -0.2031, -0.1514, -0.0908, -0.1074, -0.1954, -0.2073, -0.1113,\n",
       "                      -0.0437, -0.0310, -0.1741,  0.0291, -0.2748, -0.1066, -0.0272, -0.1960,\n",
       "                      -0.1186, -0.1657, -0.1650, -0.0708, -0.2518, -0.1932, -0.0493, -0.0937,\n",
       "                      -0.1218, -0.0680, -0.1624,  0.0637, -0.1852, -0.0707, -0.3104, -0.0515,\n",
       "                      -0.1419, -0.1201, -0.1327, -0.1265, -0.1518, -0.1591, -0.1076, -0.1465,\n",
       "                      -0.0755, -0.3100, -0.0495,  0.0029, -0.3015, -0.0034, -0.2444, -0.0323,\n",
       "                      -0.0075, -0.2195, -0.0427, -0.1364, -0.1512, -0.1706, -0.3206, -0.2259,\n",
       "                      -0.0949,  0.0279, -0.1100, -0.1459, -0.2042, -0.0013, -0.1287, -0.1480,\n",
       "                      -0.1167, -0.2374, -0.1978, -0.1802, -0.1438, -0.2400, -0.1629, -0.3317,\n",
       "                      -0.1028, -0.2170, -0.1828, -0.1092, -0.0992, -0.1602, -0.0890, -0.1599,\n",
       "                       0.0537, -0.0908, -0.1828,  0.0210,  0.0449, -0.2126, -0.1575, -0.0511,\n",
       "                      -0.0709, -0.0723, -0.1811, -0.1257, -0.0465, -0.0239, -0.0109, -0.2001,\n",
       "                      -0.0522, -0.1715, -0.0491, -0.1381, -0.1599, -0.2168, -0.2181, -0.0561,\n",
       "                      -0.1892, -0.1519, -0.1418, -0.1124, -0.2568, -0.0263, -0.2403, -0.0859,\n",
       "                      -0.1063, -0.1068, -0.1766, -0.2106, -0.1609, -0.2054, -0.2970, -0.0116,\n",
       "                      -0.1101, -0.0189, -0.0996, -0.1711, -0.1036, -0.2597, -0.2116,  0.0036])),\n",
       "             ('out.weight',\n",
       "              tensor([[ 0.0862,  0.0271, -0.1007,  ..., -0.0845, -0.0619,  0.0074],\n",
       "                      [ 0.0448,  0.0033, -0.0557,  ..., -0.0100,  0.0668, -0.0680],\n",
       "                      [-0.0090,  0.0316, -0.1087,  ..., -0.1511, -0.0309, -0.0801],\n",
       "                      ...,\n",
       "                      [ 0.0080, -0.0977,  0.0334,  ...,  0.0982, -0.0446, -0.0536],\n",
       "                      [-0.0082,  0.0572, -0.0370,  ..., -0.0545, -0.0954, -0.0665],\n",
       "                      [ 0.0197, -0.0413, -0.0594,  ..., -0.0017, -0.0564, -0.1201]])),\n",
       "             ('out.bias',\n",
       "              tensor([-0.0608,  0.1271, -0.0101, -0.0512,  0.1692,  0.0497, -0.0443, -0.0295,\n",
       "                      -0.0305,  0.0025,  0.0249, -0.1780,  0.0888, -0.0025,  0.0411,  0.0326,\n",
       "                       0.0189,  0.1210, -0.1197,  0.0857, -0.1597, -0.0472,  0.1311, -0.0240,\n",
       "                       0.0023])),\n",
       "             ('out2.weight',\n",
       "              tensor([[ 0.0524,  0.0948,  0.0990, -0.1067,  0.2072,  0.0946,  0.1039,  0.0050,\n",
       "                        0.0504,  0.1035, -0.0624, -0.0050,  0.1034, -0.0049,  0.0741, -0.0449,\n",
       "                       -0.0365,  0.0842, -0.1056, -0.0978, -0.1155,  0.0179,  0.1458, -0.0676,\n",
       "                        0.0720],\n",
       "                      [ 0.0582,  0.0425,  0.0984, -0.1034,  0.1309,  0.0897,  0.1052,  0.0061,\n",
       "                        0.0502,  0.1050, -0.0565,  0.0243,  0.0434, -0.0061,  0.0790, -0.0439,\n",
       "                       -0.0269, -0.0984, -0.0051, -0.1109, -0.0472,  0.0164,  0.1242, -0.0760,\n",
       "                        0.0657],\n",
       "                      [ 0.3569, -2.9709,  0.5456,  0.6139, -2.9254, -1.4403,  0.2579,  0.1497,\n",
       "                       -0.0375,  0.4636, -0.8592,  1.5991, -1.4925, -0.1381, -0.5350, -0.8522,\n",
       "                       -0.6143, -1.4240,  1.7972, -1.5962,  1.8114,  0.1194, -1.4964,  0.9199,\n",
       "                        0.5416]])),\n",
       "             ('out2.bias', tensor([ 0.2508, -0.0248, -0.7200]))])"
      ]
     },
     "execution_count": 30,
     "metadata": {},
     "output_type": "execute_result"
    }
   ],
   "source": [
    "network.state_dict()"
   ]
  },
  {
   "cell_type": "markdown",
   "id": "41faa0b8",
   "metadata": {},
   "source": [
    "[Go back to top.](#index)\n",
    "\n",
    "### 4.3. Predict class<a name=\"predict\"></a>"
   ]
  },
  {
   "cell_type": "code",
   "execution_count": 31,
   "id": "f204f3ee",
   "metadata": {},
   "outputs": [
    {
     "name": "stdout",
     "output_type": "stream",
     "text": [
      "Accuracy: 0.6935933147632312\n"
     ]
    }
   ],
   "source": [
    "predictions, labels = predict.predict(network, test_dataset) \n",
    "accuracy = np.sum(predictions == labels) / len(labels)"
   ]
  },
  {
   "cell_type": "markdown",
   "id": "235fc6ae",
   "metadata": {},
   "source": [
    "[Go back to top.](#index)\n",
    "\n",
    "## 5. Results<a name=\"results\"></a>\n",
    "\n",
    "### 5.1. Confusion matrix<a name=\"cm\"></a>"
   ]
  },
  {
   "cell_type": "code",
   "execution_count": 32,
   "id": "5e8b04df",
   "metadata": {},
   "outputs": [],
   "source": [
    "def plot_confusion_matrix(y_true, y_pred, title=None, normalise=None,\n",
    "                          dict_label_to_real=None, figsize=None, **kwargs):\n",
    "    \"\"\"Plot a confusion matrix.\n",
    "\n",
    "    Uses the true and predicted class labels to compute a confusion matrix.\n",
    "    This can be non-normalised, normalised by true class/row (the diagonals\n",
    "    show the accuracy of each class), and by predicted class/column (the\n",
    "    diagonals show the precision).\n",
    "\n",
    "    Parameters\n",
    "    ----------\n",
    "    y_true : 1D array-like\n",
    "        Ground truth (correct) labels of shape (n_samples,).\n",
    "    y_true : 1D array-like\n",
    "        Predicted class labels of shape (n_samples,).\n",
    "    title : {None, str}, optional\n",
    "        Title of the plot.\n",
    "    normalise : {None, str}, optional\n",
    "       If `None`, use the absolute numbers in each matrix entry. If 'accuracy',\n",
    "       normalise per true class. If 'precision', normalise per predicted class.\n",
    "    dict_label_to_real : dict, optional\n",
    "        Dictionary containing the class labels as key and its real name as\n",
    "        values. E.g. for PLAsTiCC\n",
    "        `dict_label_to_real = {42: 'SNII', 62: 'SNIbc', 90: 'SNIa'}`.\n",
    "        If `None`, the default class labels are used.\n",
    "    figsize : {None, tuple}\n",
    "        If `None`, use the default `figsize` of the plot. Otherwise, create a\n",
    "        figure with the given size.\n",
    "\n",
    "    Returns\n",
    "    -------\n",
    "    cm : np.array\n",
    "       The confusion matrix, as computed by `sklearn.metrics.confusion_matrix`.\n",
    "    \"\"\"\n",
    "    # Make and normalise the confusion matrix\n",
    "    cm = confusion_matrix(y_true, y_pred)\n",
    "    if normalise == 'accuracy':\n",
    "        cm = cm.astype('float') / cm.sum(axis=1)[:, np.newaxis]\n",
    "        kwargs = {'vmin': 0, 'vmax': 1}\n",
    "        print(\"Confusion matrix normalised by true class.\")\n",
    "    elif normalise == 'precision':\n",
    "        cm = cm.astype('float') / cm.sum(axis=0)[np.newaxis, :]\n",
    "        kwargs = {'vmin': 0, 'vmax': 1}\n",
    "        print(\"Confusion matrix normalised by predicted class.\")\n",
    "    else:\n",
    "        print('Confusion matrix without normalisation')\n",
    "\n",
    "    # Classes in the dataset\n",
    "    target_names = np.unique(y_true)\n",
    "    target_names_ori = np.copy(target_names)  # the labels might be strings\n",
    "    if dict_label_to_real is not None:\n",
    "        target_names = np.vectorize(dict_label_to_real.get)(target_names)\n",
    "        if target_names[0] is None:  # fix the names being strings\n",
    "            target_names = list(map(int, target_names_ori))\n",
    "\n",
    "    # Plot the confusion matrix\n",
    "    if figsize is not None:\n",
    "        _, ax = plt.subplots(figsize=figsize)  # good values: (9, 7)\n",
    "    else:\n",
    "        _, ax = plt.subplots()\n",
    "    sns.heatmap(cm, xticklabels=target_names,\n",
    "                yticklabels=target_names, cmap='Blues',\n",
    "                annot=True, fmt='.2f', lw=0.5,\n",
    "                cbar_kws={'label': 'Fraction of events',\n",
    "                          'shrink': .82}, **kwargs)\n",
    "    ax.set_xlabel('Predicted class')\n",
    "    ax.set_ylabel('True class')\n",
    "    ax.set_yticklabels(ax.get_yticklabels(), rotation=0)\n",
    "    ax.set_aspect('equal')\n",
    "    if title is not None:\n",
    "        plt.title(title)\n",
    "\n",
    "    return cm"
   ]
  },
  {
   "cell_type": "code",
   "execution_count": 33,
   "id": "885513bf",
   "metadata": {},
   "outputs": [
    {
     "name": "stdout",
     "output_type": "stream",
     "text": [
      "Confusion matrix normalised by true class.\n"
     ]
    },
    {
     "data": {
      "text/plain": [
       "array([[1., 0.],\n",
       "       [1., 0.]])"
      ]
     },
     "execution_count": 33,
     "metadata": {},
     "output_type": "execute_result"
    },
    {
     "data": {
      "image/png": "[encoded data removed]",
      "text/plain": [
       "<Figure size 432x288 with 2 Axes>"
      ]
     },
     "metadata": {},
     "output_type": "display_data"
    }
   ],
   "source": [
    "plot_confusion_matrix(y_true=labels, y_pred=predictions, \n",
    "                      normalise='accuracy', \n",
    "                      title=net_type+f'\\nAccuracy: {accuracy:.3f}', \n",
    "                      dict_label_to_real={0:'gal-gal', 1:'2 gals'})"
   ]
  },
  {
   "cell_type": "markdown",
   "id": "1327d7e9",
   "metadata": {},
   "source": [
    "[Go back to top.](#index)\n",
    "\n",
    "### 5.2. Learning curve<a name=\"learningCurve\"></a>"
   ]
  },
  {
   "cell_type": "code",
   "execution_count": 34,
   "id": "72010816",
   "metadata": {},
   "outputs": [
    {
     "data": {
      "text/plain": [
       "Text(0.5, 1.0, 'Learning curve')"
      ]
     },
     "execution_count": 34,
     "metadata": {},
     "output_type": "execute_result"
    },
    {
     "data": {
      "image/png": "[encoded data removed]",
      "text/plain": [
       "<Figure size 432x288 with 1 Axes>"
      ]
     },
     "metadata": {},
     "output_type": "display_data"
    }
   ],
   "source": [
    "plt.plot(monitor_table['Loss'], linewidth=3, label='Loss')\n",
    "plt.plot(monitor_table['Train Acc'], linewidth=3, label='Train Accuracy')\n",
    "plt.plot(monitor_table['Test Acc'], linewidth=3, label='Test Accuracy')\n",
    "plt.xlabel('Epochs')\n",
    "plt.ylabel('Score')\n",
    "plt.legend()\n",
    "plt.title('Learning curve')"
   ]
  },
  {
   "cell_type": "markdown",
   "id": "d3ca672e",
   "metadata": {},
   "source": [
    "[Go back to top.](#index)"
   ]
  }
 ],
 "metadata": {
  "kernelspec": {
   "display_name": "Python 3",
   "language": "python",
   "name": "python3"
  },
  "language_info": {
   "codemirror_mode": {
    "name": "ipython",
    "version": 3
   },
   "file_extension": ".py",
   "mimetype": "text/x-python",
   "name": "python",
   "nbconvert_exporter": "python",
   "pygments_lexer": "ipython3",
   "version": "3.7.7"
  }
 },
 "nbformat": 4,
 "nbformat_minor": 5
}
