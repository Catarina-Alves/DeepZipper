{
 "cells": [
  {
   "cell_type": "markdown",
   "id": "f6d826e6",
   "metadata": {},
   "source": [
    "# Classification Task\n",
    "\n",
    "In this notebook we aim to train, validate and test a neural net to classify between:\n",
    "* one galaxy behind one foreground galaxy\n",
    "* two galaxies at the same redshift and with small angular separation (1 to 4 arcseconds)\n",
    "\n",
    "These datasets were created in notebook `1_create_simulations`.\n",
    "\n",
    "This notebook also incorporates the critical diagnostics described in [Training a Machine Learning Model](https://docs.google.com/document/d/1U17RNPqDA5uP9-M5V3ENweKig5eRZWHTpja-hh1z1MI/edit).\n",
    "\n",
    "#### Index<a name=\"index\"></a>\n",
    "1. [Import Packages](#imports)\n",
    "2. [Load data](#load)\n",
    "3. [Process data](#process)\n",
    "    1. [Ingest the data](#ingest)\n",
    "    2. [Get dataloader](#dataloader)\n",
    "4. [Train network](#train)\n",
    "    1. [Save performance](#savePerformance)\n",
    "    2. [Predict class](#predict)\n",
    "    3. [Confusion matrix](#cm)\n",
    "\n",
    "\n",
    "## 1. Import Packages<a name=\"imports\"></a>"
   ]
  },
  {
   "cell_type": "code",
   "execution_count": 1,
   "id": "5fba30ed",
   "metadata": {},
   "outputs": [],
   "source": [
    "import sys\n",
    "import time\n",
    "import glob"
   ]
  },
  {
   "cell_type": "code",
   "execution_count": 2,
   "id": "e596cd25",
   "metadata": {},
   "outputs": [],
   "source": [
    "import numpy as np\n",
    "import pandas as pd\n",
    "import torch\n",
    "import process\n",
    "import matplotlib.pyplot as plt\n",
    "import seaborn as sns"
   ]
  },
  {
   "cell_type": "code",
   "execution_count": 3,
   "id": "66db4371",
   "metadata": {},
   "outputs": [],
   "source": [
    "sys.path.append('../Network')\n",
    "import data_utils\n",
    "import networks\n",
    "import training\n",
    "import save\n",
    "import predict"
   ]
  },
  {
   "cell_type": "code",
   "execution_count": 4,
   "id": "ffb4505a",
   "metadata": {},
   "outputs": [],
   "source": [
    "from sklearn.metrics import confusion_matrix"
   ]
  },
  {
   "cell_type": "markdown",
   "id": "b37f9656",
   "metadata": {},
   "source": [
    "### Aestetic settings"
   ]
  },
  {
   "cell_type": "code",
   "execution_count": 5,
   "id": "3ecfe474",
   "metadata": {},
   "outputs": [],
   "source": [
    "%matplotlib inline\n",
    "%config Completer.use_jedi = False  # enable autocomplete\n",
    "\n",
    "size_default = 1.5\n",
    "size_larger = 1.9\n",
    "sns.set(font_scale=size_default, style=\"ticks\")"
   ]
  },
  {
   "cell_type": "markdown",
   "id": "e3a5feec",
   "metadata": {},
   "source": [
    "## Notebook Options"
   ]
  },
  {
   "cell_type": "code",
   "execution_count": null,
   "id": "e5dac309",
   "metadata": {},
   "outputs": [],
   "source": [
    "is_processed = 1  # Set to 0 if the data has not yet been processed\n",
    "is_trained = 0  # Set to 0 if the network has not yet been trained"
   ]
  },
  {
   "cell_type": "markdown",
   "id": "f6ffc774",
   "metadata": {},
   "source": [
    "## 2. Load data<a name=\"load\"></a>"
   ]
  },
  {
   "cell_type": "code",
   "execution_count": 6,
   "id": "8807ba58",
   "metadata": {},
   "outputs": [],
   "source": [
    "dataset_name = 'high_cad_1_2_data'\n",
    "directory = dataset_name"
   ]
  },
  {
   "cell_type": "markdown",
   "id": "2ca6cf9d",
   "metadata": {},
   "source": [
    "[Go back to top.](#index)\n",
    "\n",
    "### 2.1. Process data<a name=\"process\"></a>\n",
    "\n",
    "Following [DeepZipper paper](https://arxiv.org/pdf/2112.01541.pdf), we condense the image information to single-image input by averaging all images in the time series on a pixel-by-pixel basis within each band.\n",
    "\n",
    "This also augments the training set by rotating and morroring the images."
   ]
  },
  {
   "cell_type": "code",
   "execution_count": 8,
   "id": "7a01f66f",
   "metadata": {},
   "outputs": [],
   "source": [
    "if not is_processed:\n",
    "    configurations = [x.split(\"/\")[1].split(\"_images.\")[0] for x in glob.glob(f\"{directory}/*_images.npy\")]\n",
    "    \n",
    "    ini_time = time.time()\n",
    "    for configuration in sorted(configurations):\n",
    "        process.run(directory, configuration)\n",
    "    print(time.time() - ini_time)"
   ]
  },
  {
   "cell_type": "markdown",
   "id": "f14d8236",
   "metadata": {},
   "source": [
    "### 2.2. Original data<a name=\"loadOri\"></a>"
   ]
  },
  {
   "cell_type": "markdown",
   "id": "3b0c4b51",
   "metadata": {},
   "source": [
    "Configuration 1:"
   ]
  },
  {
   "cell_type": "code",
   "execution_count": 9,
   "id": "4559f047",
   "metadata": {},
   "outputs": [],
   "source": [
    "images_config1_ori = np.load(dataset_name+'/CONFIGURATION_1_images.npy')\n",
    "metadata_config1_ori = pd.read_csv(dataset_name+'/CONFIGURATION_1_metadata.csv', sep=',')"
   ]
  },
  {
   "cell_type": "code",
   "execution_count": 10,
   "id": "875af7fd",
   "metadata": {},
   "outputs": [
    {
     "name": "stdout",
     "output_type": "stream",
     "text": [
      "(4665, 4, 45, 45)\n",
      "(4665, 324)\n",
      "# events:  311\n"
     ]
    }
   ],
   "source": [
    "print(np.shape(images_config1_ori))\n",
    "print(np.shape(metadata_config1_ori))\n",
    "print('# events: ', len(np.unique(metadata_config1_ori['OBJID-g'])))"
   ]
  },
  {
   "cell_type": "markdown",
   "id": "21e6b303",
   "metadata": {},
   "source": [
    "Configuration 2:"
   ]
  },
  {
   "cell_type": "code",
   "execution_count": 11,
   "id": "ae74c677",
   "metadata": {},
   "outputs": [],
   "source": [
    "images_config2_ori = np.load(dataset_name+'/CONFIGURATION_2_images.npy')\n",
    "metadata_config2_ori = pd.read_csv(dataset_name+'/CONFIGURATION_2_metadata.csv', sep=',')"
   ]
  },
  {
   "cell_type": "code",
   "execution_count": 12,
   "id": "c33bbeaa",
   "metadata": {},
   "outputs": [
    {
     "name": "stdout",
     "output_type": "stream",
     "text": [
      "(2055, 4, 45, 45)\n",
      "(2055, 416)\n",
      "# events:  137\n"
     ]
    }
   ],
   "source": [
    "print(np.shape(images_config2_ori))\n",
    "print(np.shape(metadata_config2_ori))\n",
    "print('# events: ', len(np.unique(metadata_config2_ori['OBJID-g'])))"
   ]
  },
  {
   "cell_type": "markdown",
   "id": "1c5bab9b",
   "metadata": {},
   "source": [
    "### 2.3. Processed data<a name=\"loadAug\"></a>"
   ]
  },
  {
   "cell_type": "markdown",
   "id": "5c745d30",
   "metadata": {},
   "source": [
    "Configuration 1:"
   ]
  },
  {
   "cell_type": "code",
   "execution_count": 13,
   "id": "c60d1a6f",
   "metadata": {},
   "outputs": [],
   "source": [
    "images_config1 = np.load(dataset_name+'/CONFIGURATION_1_proc_ims_15.npy')\n",
    "metadata_config1 = np.load(dataset_name+'/CONFIGURATION_1_proc_mds_15.npy', \n",
    "                           allow_pickle=True).item()"
   ]
  },
  {
   "cell_type": "code",
   "execution_count": 14,
   "id": "9caff838",
   "metadata": {},
   "outputs": [
    {
     "name": "stdout",
     "output_type": "stream",
     "text": [
      "(2488, 4, 45, 45)\n",
      "(15, 324)\n",
      "# events:  2488\n"
     ]
    }
   ],
   "source": [
    "print(np.shape(images_config1))\n",
    "print(np.shape(metadata_config1[0]))\n",
    "print('# events: ', len(metadata_config1.keys()))"
   ]
  },
  {
   "cell_type": "markdown",
   "id": "c3fdc419",
   "metadata": {},
   "source": [
    "Configuration 2:"
   ]
  },
  {
   "cell_type": "code",
   "execution_count": 15,
   "id": "259e57a5",
   "metadata": {},
   "outputs": [],
   "source": [
    "images_config2 = np.load(dataset_name+'/CONFIGURATION_2_proc_ims_15.npy')\n",
    "metadata_config2 = np.load(dataset_name+'/CONFIGURATION_2_proc_mds_15.npy', \n",
    "                           allow_pickle=True).item()"
   ]
  },
  {
   "cell_type": "code",
   "execution_count": 16,
   "id": "6e69746d",
   "metadata": {},
   "outputs": [
    {
     "name": "stdout",
     "output_type": "stream",
     "text": [
      "(1096, 4, 45, 45)\n",
      "(15, 416)\n",
      "# events:  1096\n"
     ]
    }
   ],
   "source": [
    "print(np.shape(images_config2))\n",
    "print(np.shape(metadata_config2[0]))\n",
    "print('# events: ', len(metadata_config2.keys()))"
   ]
  },
  {
   "cell_type": "code",
   "execution_count": 17,
   "id": "b7ad1b7d",
   "metadata": {},
   "outputs": [],
   "source": [
    "# Show rotation of the images\n",
    "# from deeplenstronomy.visualize import view_image, view_image_rgb\n",
    "# view_image_rgb(images_config2[1], Q=10, stretch=1)\n",
    "# view_image_rgb(images_config2[138], Q=10, stretch=1)\n",
    "# view_image_rgb(images_config2[275], Q=10, stretch=1)"
   ]
  },
  {
   "cell_type": "markdown",
   "id": "174940e1",
   "metadata": {},
   "source": [
    "## 3. Prepare data for network<a name=\"prepare\"></a>\n",
    "\n",
    "### 3.1. Train/Test set split<a name=\"split\"></a>"
   ]
  },
  {
   "cell_type": "code",
   "execution_count": 18,
   "id": "8784b419",
   "metadata": {},
   "outputs": [
    {
     "name": "stdout",
     "output_type": "stream",
     "text": [
      "(2488, 15, 4)\n",
      "0\n",
      "(1096, 15, 4)\n",
      "1\n"
     ]
    }
   ],
   "source": [
    "train_dataset, test_dataset = data_utils.make_train_test_datasets(\n",
    "    directory=dataset_name, class_names=['CONFIGURATION_1_proc', 'CONFIGURATION_2_proc'], \n",
    "    suffix='15', label_map={})"
   ]
  },
  {
   "cell_type": "code",
   "execution_count": 19,
   "id": "08353ae5",
   "metadata": {},
   "outputs": [
    {
     "data": {
      "text/plain": [
       "(3225, 4, 45, 45)"
      ]
     },
     "execution_count": 19,
     "metadata": {},
     "output_type": "execute_result"
    }
   ],
   "source": [
    "np.shape(train_dataset.images) # I thought we added all the images? Why still many filters??"
   ]
  },
  {
   "cell_type": "markdown",
   "id": "248beba1",
   "metadata": {},
   "source": [
    "### 3.2. Get dataloader<a name=\"dataloader\"></a>"
   ]
  },
  {
   "cell_type": "code",
   "execution_count": 20,
   "id": "2df2b992",
   "metadata": {},
   "outputs": [],
   "source": [
    "train_dataloader = data_utils.make_dataloader(train_dataset)"
   ]
  },
  {
   "cell_type": "markdown",
   "id": "bebf6445",
   "metadata": {},
   "source": [
    "### 3.3. Data Histogram<a name=\"dataHist\"></a>"
   ]
  },
  {
   "cell_type": "code",
   "execution_count": 21,
   "id": "d7d61298",
   "metadata": {},
   "outputs": [],
   "source": [
    "dict_label_to_real = {0: 'gal-gal', 1: '2 gals'}"
   ]
  },
  {
   "cell_type": "code",
   "execution_count": 22,
   "id": "27534f79",
   "metadata": {},
   "outputs": [
    {
     "data": {
      "text/plain": [
       "<matplotlib.legend.Legend at 0x7fe372608790>"
      ]
     },
     "execution_count": 22,
     "metadata": {},
     "output_type": "execute_result"
    },
    {
     "data": {
      "image/png": "[encoded data removed]",
      "text/plain": [
       "<Figure size 432x288 with 1 Axes>"
      ]
     },
     "metadata": {},
     "output_type": "display_data"
    }
   ],
   "source": [
    "bins = np.arange(-.5, 1.5, 0.25)\n",
    "sns.histplot(data=train_dataset.labels-.25, kde=False, stat='density', \n",
    "             bins=bins,\n",
    "             color='C0', label='Train set', linewidth=3, fill=False)\n",
    "sns.histplot(data=test_dataset.labels, kde=False, stat='density', \n",
    "             bins=bins, \n",
    "             color='C1', label='Test set', linewidth=3, fill=False)\n",
    "plt.xticks(ticks=[0, 1], labels=[dict_label_to_real[0], dict_label_to_real[1]])\n",
    "plt.xlim(-.5, 1.5)\n",
    "plt.legend()"
   ]
  },
  {
   "cell_type": "markdown",
   "id": "53c6e432",
   "metadata": {},
   "source": [
    "[Go back to top.](#index)\n",
    "\n",
    "## 4. Train network<a name=\"train\"></a>"
   ]
  },
  {
   "cell_type": "code",
   "execution_count": 24,
   "id": "2e298d28",
   "metadata": {},
   "outputs": [],
   "source": [
    "network_types = {'ZIPPER': networks.ZipperNN(4, 4, 4),\n",
    "                 'CNN': networks.CNN_single(4, 2),\n",
    "                 'RNN': networks.RNN_single(4, 3)}\n",
    "net_type = 'CNN'\n",
    "network = network_types[net_type]"
   ]
  },
  {
   "cell_type": "code",
   "execution_count": 25,
   "id": "d79130c8",
   "metadata": {},
   "outputs": [
    {
     "name": "stdout",
     "output_type": "stream",
     "text": [
      "\r",
      "Epoch 1\r"
     ]
    },
    {
     "name": "stderr",
     "output_type": "stream",
     "text": [
      "/Users/catarina/opt/anaconda3/lib/python3.7/site-packages/torch/nn/functional.py:1331: UserWarning: dropout2d: Received a 2-D input to dropout2d, which is deprecated and will result in an error in a future release. To retain the behavior and silence this warning, please use dropout instead. Note that dropout2d exists to provide channel-wise dropout on inputs with 2 spatial dimensions, a channel dimension, and an optional batch dimension (i.e. 3D or 4D inputs).\n",
      "  warnings.warn(warn_msg)\n"
     ]
    },
    {
     "name": "stdout",
     "output_type": "stream",
     "text": [
      "Epoch: 1 Batch: 1  | Training Accuracy: 0.710 -- Validation Accuracy: 0.694 -- Loss: 0.723\n",
      "Epoch: 1 Batch: 501  | Training Accuracy: 0.950 -- Validation Accuracy: 0.969 -- Loss: 0.317\n",
      "Epoch: 2 Batch: 1  | Training Accuracy: 0.961 -- Validation Accuracy: 0.969 -- Loss: 0.004\n",
      "Epoch: 2 Batch: 501  | Training Accuracy: 0.964 -- Validation Accuracy: 0.981 -- Loss: 0.005\n",
      "Epoch: 3 Batch: 1  | Training Accuracy: 0.955 -- Validation Accuracy: 0.972 -- Loss: 0.002\n",
      "Epoch: 3 Batch: 501  | Training Accuracy: 0.989 -- Validation Accuracy: 0.994 -- Loss: 0.001\n",
      "Epoch: 4 Batch: 1  | Training Accuracy: 0.992 -- Validation Accuracy: 0.997 -- Loss: 0.002\n",
      "Epoch: 4 Batch: 501  | Training Accuracy: 0.983 -- Validation Accuracy: 0.981 -- Loss: 0.064\n",
      "Epoch: 5 Batch: 1  | Training Accuracy: 0.992 -- Validation Accuracy: 0.997 -- Loss: 0.000\n",
      "Epoch: 5 Batch: 501  | Training Accuracy: 0.992 -- Validation Accuracy: 0.997 -- Loss: 0.000\n",
      "Epoch: 6 Batch: 1  | Training Accuracy: 0.992 -- Validation Accuracy: 0.994 -- Loss: 0.007\n",
      "Epoch: 6 Batch: 501  | Training Accuracy: 0.992 -- Validation Accuracy: 0.997 -- Loss: 0.136\n",
      "Epoch: 7 Batch: 1  | Training Accuracy: 0.992 -- Validation Accuracy: 0.994 -- Loss: 0.001\n",
      "Epoch: 7 Batch: 501  | Training Accuracy: 1.000 -- Validation Accuracy: 0.997 -- Loss: 0.001\n",
      "Epoch: 8 Batch: 1  | Training Accuracy: 0.992 -- Validation Accuracy: 0.994 -- Loss: 0.000\n",
      "Epoch: 8 Batch: 501  | Training Accuracy: 0.978 -- Validation Accuracy: 0.992 -- Loss: 0.003\n",
      "Epoch: 9 Batch: 1  | Training Accuracy: 0.981 -- Validation Accuracy: 0.994 -- Loss: 0.000\n",
      "Epoch: 9 Batch: 501  | Training Accuracy: 1.000 -- Validation Accuracy: 0.997 -- Loss: 0.000\n",
      "Epoch: 10 Batch: 1  | Training Accuracy: 0.994 -- Validation Accuracy: 1.000 -- Loss: 0.000\n",
      "Epoch: 10 Batch: 501  | Training Accuracy: 0.997 -- Validation Accuracy: 1.000 -- Loss: 0.000\n",
      "Epoch: 11 Batch: 1  | Training Accuracy: 0.994 -- Validation Accuracy: 0.997 -- Loss: 0.017\n",
      "Epoch: 11 Batch: 501  | Training Accuracy: 0.983 -- Validation Accuracy: 0.992 -- Loss: 0.025\n",
      "Epoch: 12 Batch: 1  | Training Accuracy: 0.992 -- Validation Accuracy: 0.992 -- Loss: 0.000\n",
      "Epoch: 12 Batch: 501  | Training Accuracy: 0.994 -- Validation Accuracy: 0.997 -- Loss: 0.000\n",
      "Epoch: 13 Batch: 1  | Training Accuracy: 1.000 -- Validation Accuracy: 1.000 -- Loss: 0.000\n",
      "Epoch: 13 Batch: 501  | Training Accuracy: 0.989 -- Validation Accuracy: 0.994 -- Loss: 0.000\n",
      "Epoch: 14 Batch: 1  | Training Accuracy: 0.994 -- Validation Accuracy: 0.994 -- Loss: 0.000\n",
      "Epoch: 14 Batch: 501  | Training Accuracy: 0.997 -- Validation Accuracy: 0.997 -- Loss: 0.000\n",
      "Epoch: 15 Batch: 1  | Training Accuracy: 1.000 -- Validation Accuracy: 0.997 -- Loss: 0.000\n",
      "Epoch: 15 Batch: 501  | Training Accuracy: 0.997 -- Validation Accuracy: 0.997 -- Loss: 0.105\n",
      "Epoch: 16 Batch: 1  | Training Accuracy: 1.000 -- Validation Accuracy: 1.000 -- Loss: 0.000\n",
      "Epoch: 16 Batch: 501  | Training Accuracy: 0.997 -- Validation Accuracy: 1.000 -- Loss: 0.000\n",
      "Epoch: 17 Batch: 1  | Training Accuracy: 0.997 -- Validation Accuracy: 0.992 -- Loss: 0.000\n",
      "Epoch: 17 Batch: 501  | Training Accuracy: 0.994 -- Validation Accuracy: 1.000 -- Loss: 0.000\n",
      "Epoch: 18 Batch: 1  | Training Accuracy: 1.000 -- Validation Accuracy: 1.000 -- Loss: 0.001\n",
      "Epoch: 18 Batch: 501  | Training Accuracy: 0.997 -- Validation Accuracy: 0.997 -- Loss: 0.000\n",
      "Epoch: 19 Batch: 1  | Training Accuracy: 0.997 -- Validation Accuracy: 1.000 -- Loss: 0.000\n",
      "Epoch: 19 Batch: 501  | Training Accuracy: 0.994 -- Validation Accuracy: 0.994 -- Loss: 0.405\n",
      "Epoch: 20 Batch: 1  | Training Accuracy: 1.000 -- Validation Accuracy: 1.000 -- Loss: 0.000\n",
      "Epoch: 20 Batch: 501  | Training Accuracy: 1.000 -- Validation Accuracy: 1.000 -- Loss: 0.000\n",
      "252.6777470111847\n"
     ]
    }
   ],
   "source": [
    "if not is_trained:\n",
    "    ini_time = time.time()\n",
    "    if net_type == 'ZIPPER':\n",
    "        network = training.train_zipper(network, train_dataloader,\n",
    "                                        train_dataset, test_dataset,\n",
    "                                        monitor=True,\n",
    "                                        outfile_prefix=f\"{dataset_name}/{dataset_name}_{net_type}\")\n",
    "    else:\n",
    "        if net_type == 'CNN':\n",
    "            datatype = 'image'\n",
    "        elif net_type == 'RNN':\n",
    "            datatype = 'lightcurve'\n",
    "        else:\n",
    "            raise ValueError('`net_type` {net_type} not recognised')\n",
    "        network = training.train_single(network, train_dataloader, \n",
    "                                    train_dataset, test_dataset,\n",
    "                                    datatype, monitor=True,\n",
    "                                    outfile_prefix=f\"{dataset_name}/{dataset_name}_{net_type}\")\n",
    "    print(time.time() - ini_time)"
   ]
  },
  {
   "cell_type": "markdown",
   "id": "a4ea6fac",
   "metadata": {},
   "source": [
    "[Go back to top.](#index)\n",
    "\n",
    "### 4.1. Save performance<a name=\"savePerformance\"></a>"
   ]
  },
  {
   "cell_type": "code",
   "execution_count": 26,
   "id": "9f214a5a",
   "metadata": {},
   "outputs": [
    {
     "name": "stdout",
     "output_type": "stream",
     "text": [
      "Saving results\n"
     ]
    }
   ],
   "source": [
    "if not is_trained:\n",
    "    print(\"Saving results\")\n",
    "    # Save the performance\n",
    "    save.save_performance(dataset_name, dataset_name, net_type, network, test_dataset)\n",
    "    save.save_performance(dataset_name, dataset_name, net_type, network, train_dataset, train=True)"
   ]
  },
  {
   "cell_type": "markdown",
   "id": "4fc725dd",
   "metadata": {},
   "source": [
    "[Go back to top.](#index)\n",
    "\n",
    "### 4.2. Load network<a name=\"loadNetwork\"></a>\n",
    "\n",
    "If the network was previously ran, simply load it."
   ]
  },
  {
   "cell_type": "code",
   "execution_count": 31,
   "id": "c12af803",
   "metadata": {},
   "outputs": [],
   "source": [
    "monitor_table = pd.read_csv(directory+f'/{directory}_{net_type}_monitoring.csv', sep=',')"
   ]
  },
  {
   "cell_type": "code",
   "execution_count": 37,
   "id": "92c9727f",
   "metadata": {},
   "outputs": [],
   "source": [
    "if is_trained:\n",
    "    network = network_types[net_type]\n",
    "    network.load_state_dict(torch.load(directory+f'/{directory}_{net_type}_network.pt'))"
   ]
  },
  {
   "cell_type": "code",
   "execution_count": 38,
   "id": "53b690cf",
   "metadata": {},
   "outputs": [
    {
     "data": {
      "text/plain": [
       "CNN_single(\n",
       "  (conv1): Conv2d(4, 48, kernel_size=(15, 15), stride=(3, 3), padding=(2, 2))\n",
       "  (conv2): Conv2d(48, 96, kernel_size=(5, 5), stride=(1, 1), padding=(2, 2))\n",
       "  (dropout1): Dropout2d(p=0.25, inplace=False)\n",
       "  (dropout2): Dropout2d(p=0.5, inplace=False)\n",
       "  (fc1): Linear(in_features=3456, out_features=408, bias=True)\n",
       "  (fc2): Linear(in_features=408, out_features=25, bias=True)\n",
       "  (fc3): Linear(in_features=25, out_features=2, bias=True)\n",
       ")"
      ]
     },
     "execution_count": 38,
     "metadata": {},
     "output_type": "execute_result"
    }
   ],
   "source": [
    "network"
   ]
  },
  {
   "cell_type": "code",
   "execution_count": 41,
   "id": "18108749",
   "metadata": {
    "scrolled": true
   },
   "outputs": [
    {
     "data": {
      "text/plain": [
       "OrderedDict([('conv1.weight',\n",
       "              tensor([[[[-3.1075e-02, -4.1218e-02, -2.4479e-02,  ..., -7.7110e-02,\n",
       "                         -7.6601e-02, -9.5212e-02],\n",
       "                        [-4.2363e-02, -8.1553e-02, -7.9861e-02,  ..., -9.7481e-02,\n",
       "                         -9.2076e-02, -6.8077e-02],\n",
       "                        [-9.3208e-02, -8.5300e-02, -8.7659e-02,  ..., -3.5090e-02,\n",
       "                         -9.1161e-02, -9.1915e-02],\n",
       "                        ...,\n",
       "                        [-2.8752e-02, -3.0223e-02, -5.1987e-02,  ..., -4.6487e-02,\n",
       "                         -7.4048e-02, -6.5016e-02],\n",
       "                        [-3.2911e-02, -3.5238e-02, -5.2888e-02,  ..., -9.3280e-02,\n",
       "                         -5.1475e-02, -4.5372e-02],\n",
       "                        [-1.8505e-02, -5.4318e-02, -4.1506e-02,  ..., -3.2514e-02,\n",
       "                         -1.0340e-01, -9.6969e-02]],\n",
       "              \n",
       "                       [[-5.2017e-02, -4.3831e-02, -6.1335e-02,  ..., -5.4044e-02,\n",
       "                         -8.9489e-02, -5.0729e-02],\n",
       "                        [-4.7509e-02, -3.4840e-02, -3.1762e-02,  ..., -2.5173e-02,\n",
       "                         -7.8343e-02, -9.0767e-02],\n",
       "                        [-5.4932e-02, -2.9987e-02, -3.1719e-02,  ..., -7.2074e-02,\n",
       "                         -6.8615e-02, -5.0254e-02],\n",
       "                        ...,\n",
       "                        [ 3.2990e-02,  2.5223e-02, -2.0065e-02,  ..., -3.5266e-02,\n",
       "                         -3.8727e-02, -7.3586e-02],\n",
       "                        [ 1.1868e-02, -2.1764e-02, -2.8692e-02,  ..., -6.0038e-02,\n",
       "                         -5.6989e-02, -3.8538e-02],\n",
       "                        [-2.5527e-02,  1.8140e-02,  2.0664e-03,  ..., -5.7006e-02,\n",
       "                         -7.8223e-02, -5.3159e-02]],\n",
       "              \n",
       "                       [[-8.0422e-02, -3.6925e-02, -7.0540e-02,  ..., -4.3514e-02,\n",
       "                         -2.9049e-02, -7.3275e-02],\n",
       "                        [-6.7629e-02, -3.1420e-02, -6.0116e-02,  ..., -3.5049e-02,\n",
       "                         -5.3044e-02, -3.7036e-02],\n",
       "                        [-4.5245e-02, -3.6196e-02, -3.6531e-02,  ..., -5.9332e-02,\n",
       "                         -6.9464e-02, -8.7283e-02],\n",
       "                        ...,\n",
       "                        [ 1.4685e-02,  3.8950e-02, -2.0842e-02,  ..., -2.4535e-02,\n",
       "                         -4.6751e-02, -8.6190e-02],\n",
       "                        [-1.8368e-03,  4.7533e-02,  6.2777e-03,  ..., -5.3085e-02,\n",
       "                         -5.0135e-02, -2.7892e-02],\n",
       "                        [-2.1225e-02, -3.4367e-02, -2.4101e-03,  ..., -5.0643e-02,\n",
       "                         -6.1734e-02, -3.0148e-02]],\n",
       "              \n",
       "                       [[-2.0885e-02, -8.1204e-02, -8.0177e-02,  ..., -8.3519e-02,\n",
       "                         -6.6437e-02, -8.5238e-02],\n",
       "                        [-6.9742e-02, -2.5220e-02, -2.0458e-02,  ..., -4.2872e-02,\n",
       "                         -7.4681e-02, -7.1107e-02],\n",
       "                        [-5.8913e-02, -4.4726e-02, -1.6979e-02,  ..., -6.8406e-02,\n",
       "                         -8.5917e-02, -2.7611e-02],\n",
       "                        ...,\n",
       "                        [ 4.0702e-02,  5.2771e-02,  5.6973e-03,  ..., -6.6035e-02,\n",
       "                         -4.3733e-02, -3.8290e-02],\n",
       "                        [ 5.8296e-02,  1.7659e-02, -1.8487e-02,  ..., -5.1831e-02,\n",
       "                         -6.7099e-02, -2.7383e-02],\n",
       "                        [-3.2680e-02, -3.6139e-02,  1.9468e-03,  ..., -3.0978e-02,\n",
       "                         -4.7897e-02, -3.8531e-02]]],\n",
       "              \n",
       "              \n",
       "                      [[[-3.6574e-02,  1.9066e-02,  1.0831e-02,  ...,  3.6646e-03,\n",
       "                          3.3225e-03, -5.3615e-02],\n",
       "                        [ 6.1061e-03, -9.8336e-03,  4.6823e-04,  ..., -3.0739e-02,\n",
       "                          4.7160e-03, -4.6486e-02],\n",
       "                        [ 1.5486e-02, -8.4833e-03,  1.6031e-02,  ...,  1.5823e-02,\n",
       "                         -1.8343e-02, -8.4080e-03],\n",
       "                        ...,\n",
       "                        [ 1.1509e-02,  2.2132e-02,  5.8629e-03,  ...,  4.0009e-03,\n",
       "                         -5.4044e-02, -6.1735e-02],\n",
       "                        [-4.6248e-02, -3.8430e-02, -3.2327e-02,  ...,  6.7014e-03,\n",
       "                          5.0423e-03, -4.2992e-02],\n",
       "                        [-1.5708e-02, -1.6904e-02, -3.1503e-02,  ..., -1.0276e-03,\n",
       "                         -1.2591e-02, -2.8645e-02]],\n",
       "              \n",
       "                       [[-3.3127e-02, -3.6776e-02,  1.1157e-02,  ..., -1.5373e-02,\n",
       "                         -2.7985e-03, -2.5874e-04],\n",
       "                        [ 1.9259e-02, -1.2228e-02,  6.8943e-03,  ..., -1.1917e-02,\n",
       "                         -4.6522e-02, -4.0075e-02],\n",
       "                        [ 2.8333e-02, -1.7543e-03, -1.8341e-02,  ..., -5.5317e-02,\n",
       "                         -1.7118e-02, -1.3743e-03],\n",
       "                        ...,\n",
       "                        [-2.1680e-02, -1.5151e-02,  1.9888e-03,  ..., -3.1287e-02,\n",
       "                         -3.3917e-02, -5.3780e-02],\n",
       "                        [-3.7376e-02, -2.0946e-02,  8.5067e-03,  ..., -3.7313e-02,\n",
       "                         -1.4773e-02, -5.7244e-02],\n",
       "                        [-4.5135e-02, -9.6810e-03, -4.0041e-03,  ..., -8.7436e-03,\n",
       "                         -5.2286e-02, -6.4021e-03]],\n",
       "              \n",
       "                       [[-3.1271e-02, -4.6596e-03,  4.7367e-03,  ...,  1.0271e-02,\n",
       "                          3.4372e-03, -2.8936e-02],\n",
       "                        [-2.7973e-02, -4.0147e-02, -1.8770e-02,  ...,  1.0606e-02,\n",
       "                          7.0222e-03, -3.2958e-02],\n",
       "                        [-2.0264e-02,  1.7126e-02, -1.1640e-02,  ..., -3.1567e-02,\n",
       "                         -1.9061e-02, -5.8648e-02],\n",
       "                        ...,\n",
       "                        [-7.9156e-03,  9.2869e-03, -2.3314e-02,  ..., -3.9042e-02,\n",
       "                         -5.0869e-02, -1.1055e-02],\n",
       "                        [-3.6568e-02, -2.7647e-02, -2.3677e-02,  ..., -3.7081e-02,\n",
       "                         -2.4404e-02, -5.8892e-02],\n",
       "                        [ 7.1299e-04, -2.2449e-02, -4.1172e-02,  ..., -1.5549e-02,\n",
       "                         -4.3465e-02, -5.2270e-02]],\n",
       "              \n",
       "                       [[-4.8987e-02, -5.2766e-03, -5.1242e-02,  ..., -1.4995e-02,\n",
       "                         -4.1812e-02, -1.9858e-02],\n",
       "                        [-3.7921e-03,  2.9544e-03, -4.1065e-02,  ...,  3.4298e-03,\n",
       "                         -1.4480e-02, -4.5396e-02],\n",
       "                        [-4.2312e-02, -1.6580e-03, -3.6738e-02,  ...,  7.6367e-03,\n",
       "                          1.0101e-02,  6.4117e-03],\n",
       "                        ...,\n",
       "                        [-4.0510e-02,  2.2884e-02,  8.7795e-03,  ..., -1.1468e-02,\n",
       "                         -2.8005e-02, -4.4009e-02],\n",
       "                        [ 5.9258e-04,  1.3089e-02, -3.4838e-02,  ..., -1.0501e-02,\n",
       "                         -4.4414e-02, -1.3205e-02],\n",
       "                        [-4.6427e-02,  6.1909e-03, -5.2370e-02,  ..., -1.2079e-02,\n",
       "                         -7.2432e-04, -3.5281e-02]]],\n",
       "              \n",
       "              \n",
       "                      [[[ 5.9829e-03, -5.4999e-03,  1.5931e-03,  ..., -1.9740e-02,\n",
       "                         -3.2859e-02,  1.1239e-02],\n",
       "                        [-4.4038e-02, -8.7714e-03, -3.8053e-02,  ..., -2.7351e-02,\n",
       "                         -5.1103e-03,  2.5765e-03],\n",
       "                        [-1.4380e-02,  2.2300e-03,  2.4164e-02,  ..., -2.3098e-03,\n",
       "                         -2.2366e-02, -5.2047e-03],\n",
       "                        ...,\n",
       "                        [ 2.3092e-03, -3.4438e-02,  1.3395e-02,  ..., -4.0349e-02,\n",
       "                         -2.1526e-02, -2.8484e-03],\n",
       "                        [-3.2229e-03,  5.3628e-03, -2.1054e-02,  ...,  1.1515e-02,\n",
       "                         -1.6783e-02, -5.0733e-03],\n",
       "                        [-6.3521e-04, -1.1336e-03, -2.2708e-02,  ..., -1.5923e-02,\n",
       "                         -2.3062e-02,  1.1473e-02]],\n",
       "              \n",
       "                       [[-4.8403e-02, -2.0042e-02, -2.5888e-02,  ..., -2.4203e-02,\n",
       "                          4.1314e-03,  8.8797e-05],\n",
       "                        [ 6.0537e-03, -2.0416e-02,  6.5750e-03,  ..., -2.1783e-02,\n",
       "                         -2.8895e-02, -1.4153e-02],\n",
       "                        [-1.5864e-02, -4.4840e-02,  7.5052e-04,  ..., -3.6254e-02,\n",
       "                          1.5640e-02,  3.3000e-03],\n",
       "                        ...,\n",
       "                        [-4.3818e-03, -1.3966e-02, -4.1726e-02,  ...,  1.7474e-02,\n",
       "                          7.9289e-03, -9.2016e-03],\n",
       "                        [-3.5694e-02, -1.5230e-03, -4.5768e-02,  ...,  6.4853e-03,\n",
       "                          2.1004e-02, -3.3538e-02],\n",
       "                        [ 6.7220e-03, -2.9540e-02,  6.0507e-03,  ..., -3.0841e-02,\n",
       "                          1.0132e-02, -4.5269e-02]],\n",
       "              \n",
       "                       [[-4.2063e-02, -3.4310e-02,  8.7900e-03,  ..., -2.5424e-02,\n",
       "                         -2.3890e-02, -4.2585e-02],\n",
       "                        [-4.9160e-02, -4.6601e-02, -7.6597e-03,  ..., -3.6842e-02,\n",
       "                         -2.1762e-02, -3.5846e-02],\n",
       "                        [-4.7871e-02,  2.3791e-03, -7.0290e-03,  ..., -2.5466e-02,\n",
       "                         -2.0685e-02, -8.2628e-03],\n",
       "                        ...,\n",
       "                        [-3.3415e-02,  6.9670e-03, -1.0442e-02,  ..., -2.2085e-03,\n",
       "                         -3.5380e-02, -1.6276e-02],\n",
       "                        [ 1.4178e-02, -4.5009e-02,  4.2781e-03,  ...,  1.1398e-03,\n",
       "                         -1.7481e-02,  2.6354e-03],\n",
       "                        [-1.3605e-02,  1.5420e-02, -1.9933e-02,  ..., -2.1381e-03,\n",
       "                         -3.5444e-02, -4.4033e-02]],\n",
       "              \n",
       "                       [[-1.4476e-02,  4.3014e-03, -3.0895e-02,  ..., -9.5376e-03,\n",
       "                          1.3558e-02,  3.2579e-03],\n",
       "                        [-2.9289e-02, -3.2445e-02, -3.2474e-02,  ..., -2.8136e-02,\n",
       "                         -3.4270e-02, -1.7005e-02],\n",
       "                        [-3.2094e-02, -4.2325e-02, -2.2205e-02,  ..., -2.3630e-02,\n",
       "                          8.3844e-04, -2.8495e-02],\n",
       "                        ...,\n",
       "                        [-1.0901e-02, -1.4618e-02, -3.4164e-02,  ..., -1.1760e-02,\n",
       "                          1.6802e-02, -3.2424e-02],\n",
       "                        [-2.2877e-02,  9.7419e-03, -3.4146e-02,  ..., -3.5980e-03,\n",
       "                         -6.9533e-03,  5.3354e-03],\n",
       "                        [-2.9708e-02, -9.4761e-03, -1.4582e-02,  ..., -2.9979e-02,\n",
       "                          7.8444e-03, -3.0469e-02]]],\n",
       "              \n",
       "              \n",
       "                      ...,\n",
       "              \n",
       "              \n",
       "                      [[[-1.9230e-02, -3.5109e-02, -3.2607e-03,  ..., -3.8030e-03,\n",
       "                         -4.2658e-02, -3.5563e-02],\n",
       "                        [-1.0651e-02,  4.9337e-04,  8.2519e-03,  ...,  1.5897e-02,\n",
       "                         -9.9232e-03, -2.4964e-02],\n",
       "                        [ 2.5034e-02, -3.8870e-03, -5.8739e-03,  ..., -6.6461e-03,\n",
       "                          1.0291e-02,  1.1898e-02],\n",
       "                        ...,\n",
       "                        [ 1.1969e-02,  1.6530e-02, -2.5104e-02,  ..., -7.8177e-03,\n",
       "                          1.5874e-02, -6.2935e-03],\n",
       "                        [-4.4089e-02, -4.0321e-02,  1.4737e-02,  ..., -2.7852e-02,\n",
       "                         -4.3491e-03, -3.5176e-02],\n",
       "                        [-4.9169e-02, -1.7645e-02, -1.9530e-02,  ..., -2.5508e-02,\n",
       "                         -3.0910e-02, -1.1006e-03]],\n",
       "              \n",
       "                       [[-3.7530e-03, -1.4054e-02, -3.2040e-02,  ...,  2.0603e-03,\n",
       "                          8.7956e-03, -4.7248e-02],\n",
       "                        [-3.2483e-02, -3.0823e-02, -1.9126e-02,  ..., -4.0906e-02,\n",
       "                         -4.6987e-02, -7.2473e-03],\n",
       "                        [ 1.4767e-02, -2.9880e-02, -5.1607e-03,  ..., -1.7634e-02,\n",
       "                         -3.4093e-02,  9.8212e-04],\n",
       "                        ...,\n",
       "                        [ 2.6733e-03,  1.7659e-03,  6.6746e-04,  ..., -1.0161e-02,\n",
       "                          8.8867e-03,  9.2160e-03],\n",
       "                        [-1.7193e-03, -2.6275e-02, -2.9915e-03,  ..., -1.8884e-02,\n",
       "                         -2.0666e-02, -1.1887e-02],\n",
       "                        [-2.5389e-02, -3.6786e-02, -1.8818e-03,  ...,  9.1822e-03,\n",
       "                          5.8339e-03, -2.8916e-02]],\n",
       "              \n",
       "                       [[ 8.4454e-04, -3.9624e-02,  1.3292e-03,  ...,  6.5590e-03,\n",
       "                          3.6742e-03,  3.5321e-03],\n",
       "                        [-2.3163e-02, -3.6045e-02, -2.4515e-02,  ..., -3.1551e-02,\n",
       "                         -1.1355e-02, -1.0620e-02],\n",
       "                        [-2.0734e-02,  2.1262e-02,  1.9939e-02,  ..., -3.2560e-02,\n",
       "                         -1.1900e-02, -1.7612e-02],\n",
       "                        ...,\n",
       "                        [ 8.5934e-03, -2.5893e-02,  1.4489e-02,  ..., -6.3441e-03,\n",
       "                          1.5687e-02, -4.6855e-02],\n",
       "                        [-3.3445e-02, -1.9830e-02, -1.4983e-02,  ..., -4.2042e-02,\n",
       "                         -9.7738e-03, -6.0991e-03],\n",
       "                        [ 1.4188e-02, -2.6949e-02, -3.7342e-02,  ..., -1.0934e-03,\n",
       "                          1.1964e-02, -1.7113e-02]],\n",
       "              \n",
       "                       [[ 1.8711e-02,  3.4337e-03,  1.5226e-02,  ..., -2.4496e-02,\n",
       "                          1.7674e-02, -2.5237e-03],\n",
       "                        [ 2.2946e-02, -3.8274e-02, -7.4372e-03,  ..., -3.0557e-02,\n",
       "                         -1.0820e-02, -1.9981e-02],\n",
       "                        [ 1.4319e-02,  1.7346e-02,  5.6935e-03,  ..., -5.3291e-03,\n",
       "                         -3.9907e-02, -3.9008e-02],\n",
       "                        ...,\n",
       "                        [-1.4464e-03, -4.1280e-02, -1.4264e-02,  ...,  2.0046e-02,\n",
       "                         -7.9976e-04, -2.5659e-02],\n",
       "                        [ 1.1878e-02, -2.7368e-02, -1.0244e-02,  ..., -3.5366e-02,\n",
       "                          1.3831e-02, -4.8723e-02],\n",
       "                        [ 8.9859e-03, -2.7489e-02, -2.0482e-02,  ..., -2.0583e-02,\n",
       "                         -1.9156e-02, -4.1061e-02]]],\n",
       "              \n",
       "              \n",
       "                      [[[-6.2535e-02, -6.1877e-02, -4.6268e-02,  ..., -5.8891e-02,\n",
       "                         -6.9967e-02, -8.7066e-02],\n",
       "                        [-4.6001e-02, -7.6697e-02, -6.4722e-02,  ..., -4.5478e-02,\n",
       "                         -2.7527e-02, -3.5072e-02],\n",
       "                        [-1.6117e-02, -5.5958e-02, -1.0083e-04,  ..., -4.9856e-02,\n",
       "                         -5.9309e-04, -6.2211e-02],\n",
       "                        ...,\n",
       "                        [-7.0397e-02, -5.3135e-02, -1.0871e-02,  ..., -4.7376e-02,\n",
       "                         -2.7788e-02, -1.5025e-02],\n",
       "                        [-3.7147e-02, -4.8067e-02, -4.6464e-02,  ..., -5.1937e-02,\n",
       "                         -5.0273e-02, -7.8446e-02],\n",
       "                        [-7.1054e-02, -8.1003e-02, -7.3208e-02,  ..., -2.0960e-02,\n",
       "                         -4.3058e-02, -7.4326e-02]],\n",
       "              \n",
       "                       [[-3.6778e-02, -1.5332e-02, -5.9337e-03,  ..., -6.3665e-02,\n",
       "                         -6.1974e-02, -4.7085e-02],\n",
       "                        [-4.0306e-02, -1.3044e-02, -4.8825e-02,  ..., -4.7755e-02,\n",
       "                         -5.1793e-02, -2.4490e-02],\n",
       "                        [-5.2605e-02, -3.5429e-02, -1.2326e-02,  ..., -2.5597e-02,\n",
       "                         -3.1000e-02, -3.5217e-02],\n",
       "                        ...,\n",
       "                        [-3.5464e-02, -5.0164e-02, -2.0026e-02,  ..., -1.1426e-02,\n",
       "                         -1.7989e-02, -1.9550e-02],\n",
       "                        [ 3.2643e-03, -1.4188e-02, -1.3796e-02,  ..., -1.7185e-02,\n",
       "                         -4.8716e-02, -4.3444e-02],\n",
       "                        [-2.1036e-02, -5.3951e-02, -1.5091e-02,  ..., -2.7959e-02,\n",
       "                         -3.5475e-02, -4.6686e-02]],\n",
       "              \n",
       "                       [[-5.1968e-02, -1.7016e-03, -2.5133e-02,  ..., -3.1802e-03,\n",
       "                         -1.7315e-02, -6.2792e-02],\n",
       "                        [-2.7875e-02, -1.8787e-02, -2.4676e-02,  ..., -1.3827e-02,\n",
       "                         -2.8031e-02, -4.8444e-02],\n",
       "                        [ 9.5066e-04, -9.6558e-03, -3.8044e-03,  ..., -1.1766e-02,\n",
       "                         -6.0085e-03, -5.8119e-02],\n",
       "                        ...,\n",
       "                        [-4.6495e-02, -3.3171e-02, -3.6582e-02,  ..., -4.9230e-02,\n",
       "                         -9.0764e-03, -2.1815e-02],\n",
       "                        [-2.6270e-02, -9.4869e-03, -3.6404e-02,  ..., -3.8046e-02,\n",
       "                          7.0682e-03, -4.1575e-02],\n",
       "                        [-1.3036e-03, -2.9666e-02, -4.8749e-02,  ..., -6.3860e-05,\n",
       "                         -2.1033e-02, -2.4954e-02]],\n",
       "              \n",
       "                       [[-4.2602e-02, -3.3548e-02, -1.8285e-02,  ..., -4.3428e-02,\n",
       "                         -4.1755e-03, -6.7387e-03],\n",
       "                        [-2.0672e-02, -1.1639e-02, -2.8689e-02,  ..., -6.3300e-02,\n",
       "                         -2.7434e-02, -1.8577e-02],\n",
       "                        [-5.9449e-04,  6.4718e-03, -4.4405e-02,  ..., -7.3322e-03,\n",
       "                         -4.5515e-02, -5.5772e-02],\n",
       "                        ...,\n",
       "                        [-5.8984e-02, -1.7834e-02, -3.5737e-02,  ..., -2.7446e-02,\n",
       "                         -2.1886e-02, -5.6929e-02],\n",
       "                        [-4.3464e-02, -6.0283e-02, -2.8119e-02,  ...,  9.9539e-03,\n",
       "                         -5.3317e-03, -4.4467e-02],\n",
       "                        [-5.8708e-02, -2.2805e-02, -3.4123e-02,  ..., -5.3302e-02,\n",
       "                         -4.4506e-03, -3.9300e-02]]],\n",
       "              \n",
       "              \n",
       "                      [[[-4.0037e-02, -2.5799e-02, -1.5114e-02,  ..., -1.4346e-02,\n",
       "                          1.6095e-02,  3.9974e-03],\n",
       "                        [-1.9739e-02, -1.9814e-02, -5.9470e-03,  ..., -2.0565e-02,\n",
       "                          2.0414e-02,  1.6322e-02],\n",
       "                        [-1.2214e-02, -3.0463e-02, -3.4277e-02,  ..., -3.5019e-02,\n",
       "                          1.0340e-03, -2.1146e-02],\n",
       "                        ...,\n",
       "                        [-4.2830e-03, -2.9329e-02,  1.5718e-02,  ..., -2.0491e-02,\n",
       "                          1.3859e-02, -8.0310e-04],\n",
       "                        [ 1.2609e-02, -2.2225e-02,  5.7747e-03,  ...,  2.4820e-02,\n",
       "                         -2.2304e-02,  1.2590e-02],\n",
       "                        [ 5.4391e-03, -3.3850e-02,  1.1947e-02,  ...,  1.1453e-02,\n",
       "                         -3.0564e-02,  5.9221e-03]],\n",
       "              \n",
       "                       [[ 1.7557e-02,  1.2547e-02, -2.0913e-02,  ...,  4.3770e-03,\n",
       "                          3.3911e-04,  1.3989e-02],\n",
       "                        [-3.0229e-02,  2.1108e-02,  2.1323e-02,  ..., -2.4621e-03,\n",
       "                          2.1881e-02, -1.4194e-02],\n",
       "                        [ 4.3950e-03, -3.5169e-03, -9.4028e-04,  ..., -9.7915e-03,\n",
       "                          9.5031e-03, -3.5743e-02],\n",
       "                        ...,\n",
       "                        [-3.6003e-02, -3.9844e-03, -1.9958e-02,  ...,  2.5448e-02,\n",
       "                          1.0510e-02, -3.2528e-02],\n",
       "                        [-3.0402e-02, -4.4796e-03, -1.5357e-02,  ...,  4.3196e-03,\n",
       "                          2.9657e-02,  5.3736e-03],\n",
       "                        [ 1.9945e-02,  8.5388e-03, -2.1479e-02,  ..., -2.3302e-02,\n",
       "                          1.5656e-02, -3.4370e-03]],\n",
       "              \n",
       "                       [[-2.1479e-02,  1.9548e-02, -1.1897e-02,  ...,  3.4679e-05,\n",
       "                          8.6604e-03, -2.8443e-04],\n",
       "                        [-2.8493e-02,  2.0659e-02, -1.0365e-02,  ..., -3.0008e-02,\n",
       "                          2.5057e-02,  2.6871e-02],\n",
       "                        [-1.1307e-02, -8.9980e-03,  3.0360e-02,  ..., -3.3939e-02,\n",
       "                          3.2228e-03,  3.8985e-03],\n",
       "                        ...,\n",
       "                        [-1.5758e-03,  9.7688e-03,  7.1867e-03,  ..., -2.5722e-02,\n",
       "                          2.3284e-02, -4.3577e-04],\n",
       "                        [ 2.1760e-02, -2.5965e-02,  8.2113e-03,  ...,  1.6157e-02,\n",
       "                          3.2585e-03,  1.2961e-02],\n",
       "                        [-2.2822e-02, -2.6194e-02,  5.8792e-03,  ...,  2.7706e-03,\n",
       "                         -2.6109e-02, -7.2964e-03]],\n",
       "              \n",
       "                       [[ 1.8246e-02,  2.8440e-02, -2.9428e-02,  ..., -3.2724e-02,\n",
       "                          9.9241e-03, -5.3496e-03],\n",
       "                        [ 1.8635e-02, -1.6488e-02,  2.1626e-03,  ...,  6.0515e-03,\n",
       "                          1.8694e-02,  9.7862e-03],\n",
       "                        [-1.3325e-02, -1.2342e-02,  4.3569e-03,  ...,  2.1169e-02,\n",
       "                         -1.4567e-02,  1.7874e-02],\n",
       "                        ...,\n",
       "                        [ 2.7332e-03,  9.9798e-03, -1.9768e-04,  ..., -1.6988e-02,\n",
       "                         -3.5815e-02, -8.5517e-03],\n",
       "                        [ 1.5710e-02,  3.0801e-03,  2.2399e-02,  ..., -7.1268e-03,\n",
       "                         -1.8730e-02,  2.7095e-02],\n",
       "                        [ 3.7155e-03, -1.0086e-02,  2.6490e-02,  ...,  3.3357e-02,\n",
       "                          2.7456e-02,  1.0666e-02]]]])),\n",
       "             ('conv1.bias',\n",
       "              tensor([ 6.1098e-03, -6.7092e-04, -3.2170e-02, -4.6877e-02, -2.5337e-02,\n",
       "                       4.0884e-03,  9.4885e-04, -2.5916e-03, -4.0810e-03, -2.3557e-02,\n",
       "                      -1.2216e-02, -2.7106e-02, -1.1296e-02, -4.7705e-02,  5.1451e-04,\n",
       "                      -5.8054e-03, -2.0406e-03, -5.0049e-02, -2.2163e-02,  5.2059e-02,\n",
       "                      -1.5189e-04,  1.9363e-01, -4.6486e-03,  6.1736e-04, -6.6333e-03,\n",
       "                      -7.5116e-03, -2.6515e-02, -1.2748e-02, -4.4346e-02, -3.1154e-02,\n",
       "                      -6.0562e-04, -2.8147e-02, -1.1148e-02, -1.7040e-02,  8.6682e-04,\n",
       "                      -3.2581e-02,  9.9410e-04, -1.3060e-02, -4.5263e-02,  9.5698e-04,\n",
       "                      -1.4682e-02, -2.7221e-03, -4.0978e-02, -1.2612e-04, -3.9082e-02,\n",
       "                      -2.1392e-02,  2.9503e-03, -3.9608e-02])),\n",
       "             ('conv2.weight',\n",
       "              tensor([[[[-2.8956e-02,  5.3469e-03, -4.4946e-02, -1.6378e-02, -6.3932e-03],\n",
       "                        [-4.3403e-02, -4.4803e-02, -3.2012e-02,  1.9429e-02, -3.5549e-02],\n",
       "                        [-3.8927e-02,  5.5391e-03, -1.4870e-02,  1.2520e-03,  4.3078e-03],\n",
       "                        [-2.5573e-02, -1.6488e-03, -4.8016e-02, -5.7307e-03,  5.2085e-03],\n",
       "                        [-4.0074e-02, -6.1888e-02,  1.6915e-02,  4.3100e-02,  2.0231e-02]],\n",
       "              \n",
       "                       [[-2.9993e-02, -1.6183e-02,  6.7194e-03, -3.2306e-02, -3.6364e-02],\n",
       "                        [ 2.0731e-02,  2.3220e-02,  1.6770e-02,  2.2742e-02,  7.0714e-03],\n",
       "                        [-2.6100e-02, -2.5820e-02,  3.5723e-02,  5.3407e-02,  2.0695e-02],\n",
       "                        [-4.2929e-02, -2.2971e-02, -1.4193e-02,  6.9780e-03,  2.6571e-02],\n",
       "                        [ 1.5024e-03, -3.8910e-02, -3.7552e-02,  1.9590e-02,  4.3200e-02]],\n",
       "              \n",
       "                       [[-1.3474e-02,  4.1652e-02,  1.6115e-02,  3.8487e-02, -4.6251e-02],\n",
       "                        [ 2.5070e-02,  4.5583e-02,  5.2379e-02,  5.7006e-03, -2.0275e-02],\n",
       "                        [ 4.1910e-03, -1.2945e-03, -1.1343e-02, -9.2269e-04,  1.4355e-03],\n",
       "                        [-4.8215e-03, -3.4868e-02, -2.5085e-02,  1.6602e-03, -4.5533e-02],\n",
       "                        [-3.8916e-02, -3.7755e-02, -1.3500e-02, -1.6077e-02, -2.1540e-02]],\n",
       "              \n",
       "                       ...,\n",
       "              \n",
       "                       [[ 5.8879e-03, -1.5247e-02,  1.1303e-02, -7.6527e-03, -3.1512e-02],\n",
       "                        [ 2.7827e-02,  2.9508e-02, -3.0112e-05,  3.6238e-02,  7.2754e-03],\n",
       "                        [-1.6942e-02, -9.9156e-03,  3.3942e-02, -9.0408e-03, -1.5761e-03],\n",
       "                        [-1.9304e-02,  1.6001e-02,  3.1198e-02,  1.6420e-02,  2.4670e-02],\n",
       "                        [-4.0449e-02,  1.0300e-02,  3.4946e-03, -2.4905e-02,  3.0549e-02]],\n",
       "              \n",
       "                       [[ 2.7358e-02, -3.6813e-02, -1.4327e-02, -3.5420e-02, -8.8975e-03],\n",
       "                        [-2.6405e-02,  9.5824e-03, -4.1069e-02, -5.5110e-02, -1.9382e-02],\n",
       "                        [-2.3958e-02,  2.0169e-04, -2.0007e-02, -3.8193e-02,  6.7937e-03],\n",
       "                        [ 2.3321e-02, -3.8175e-02, -1.3374e-02, -3.0280e-02,  3.7074e-02],\n",
       "                        [ 5.9313e-03, -4.7938e-02, -2.3522e-02, -2.4728e-02,  3.4049e-02]],\n",
       "              \n",
       "                       [[ 3.0576e-02,  3.0563e-02, -1.9653e-02,  1.6637e-02, -1.9212e-02],\n",
       "                        [ 1.6983e-02,  2.4355e-02,  2.6540e-02, -2.5113e-03,  2.6156e-02],\n",
       "                        [ 9.4423e-03, -2.0954e-02, -3.6775e-02,  2.4495e-02, -1.1581e-02],\n",
       "                        [ 1.2578e-02, -1.3326e-02, -2.8473e-02,  5.0164e-03,  1.1335e-02],\n",
       "                        [ 1.3838e-02, -3.5561e-02,  1.1512e-02, -5.6662e-03,  2.2579e-02]]],\n",
       "              \n",
       "              \n",
       "                      [[[ 3.1546e-02, -9.7272e-03, -2.5782e-02, -5.2331e-02, -7.6991e-02],\n",
       "                        [-7.3083e-02,  3.3843e-02, -6.5268e-03, -4.3658e-02, -3.1300e-02],\n",
       "                        [ 3.1159e-02, -3.5893e-02, -4.9032e-02,  6.7652e-04, -2.6167e-02],\n",
       "                        [ 2.6919e-03, -2.3402e-02, -7.7077e-02, -4.9594e-02, -5.2615e-02],\n",
       "                        [-5.0292e-02, -5.9417e-03, -9.2556e-02, -3.1828e-02, -2.3958e-03]],\n",
       "              \n",
       "                       [[-1.2781e-02, -3.7762e-02,  1.1233e-02,  2.1736e-02, -2.0157e-02],\n",
       "                        [-8.6309e-03, -3.8240e-02,  1.2459e-02, -1.6178e-02,  4.4125e-03],\n",
       "                        [ 3.2498e-03,  1.0350e-02,  9.4753e-03,  1.6368e-02,  9.0665e-03],\n",
       "                        [ 2.5495e-02, -1.2697e-02, -1.2687e-03,  5.3296e-03, -3.6181e-02],\n",
       "                        [-2.3297e-02, -2.8956e-02, -2.9328e-02,  2.8125e-02, -3.2421e-02]],\n",
       "              \n",
       "                       [[-9.6435e-03,  2.0129e-02,  2.3304e-02, -4.5453e-03,  2.1805e-03],\n",
       "                        [-2.9182e-02, -1.5956e-02, -2.6621e-02,  1.2208e-02, -2.7040e-02],\n",
       "                        [-3.9958e-03, -2.8894e-02, -3.2677e-02, -1.8756e-02, -1.6738e-02],\n",
       "                        [ 1.0757e-02,  2.7305e-02,  2.1716e-02, -2.2479e-02, -2.6023e-02],\n",
       "                        [ 1.7072e-02,  2.7233e-02,  2.8822e-02, -1.0490e-05,  1.6454e-02]],\n",
       "              \n",
       "                       ...,\n",
       "              \n",
       "                       [[ 3.5918e-03,  6.6716e-03,  1.1947e-02,  1.9368e-02, -1.5466e-02],\n",
       "                        [-8.7210e-03, -3.0233e-02, -8.0569e-03,  1.6828e-02,  4.8241e-03],\n",
       "                        [-2.3344e-02, -1.6082e-02,  2.0661e-03, -2.1075e-02, -9.4304e-03],\n",
       "                        [ 1.7167e-03, -2.1909e-02,  1.7644e-03, -2.1462e-02, -5.5603e-03],\n",
       "                        [-2.7222e-02,  1.0135e-02,  8.9394e-03, -2.2092e-02,  1.9332e-02]],\n",
       "              \n",
       "                       [[ 8.6505e-03, -2.8205e-02, -4.0445e-02,  3.7014e-03, -3.9384e-02],\n",
       "                        [-2.4971e-02, -4.2573e-02, -4.0258e-02,  1.4647e-03,  4.3637e-03],\n",
       "                        [ 7.9139e-03, -1.6892e-02, -3.5361e-02, -1.9481e-02,  7.5249e-03],\n",
       "                        [-2.2085e-02, -2.0041e-02, -3.3751e-02,  1.0751e-02, -5.0368e-03],\n",
       "                        [-4.9763e-02,  3.0902e-03,  2.6268e-04, -3.6170e-02,  3.2618e-03]],\n",
       "              \n",
       "                       [[ 1.9642e-02,  1.7163e-02, -2.1791e-02, -3.2857e-02,  6.7241e-04],\n",
       "                        [ 5.0896e-03,  2.7027e-02,  7.1693e-03, -1.3156e-02,  1.1742e-02],\n",
       "                        [ 2.9460e-02,  2.4016e-02,  1.4204e-02,  1.9518e-02,  1.0444e-02],\n",
       "                        [ 3.6498e-03, -9.2041e-03,  3.1056e-02,  2.7044e-02, -3.1416e-02],\n",
       "                        [-2.2863e-02, -2.7413e-02, -2.5364e-02,  3.8315e-03, -4.6837e-03]]],\n",
       "              \n",
       "              \n",
       "                      [[[ 2.5650e-03,  2.8616e-02,  3.2520e-02,  5.4640e-02,  3.6343e-02],\n",
       "                        [ 3.2946e-03,  1.8560e-02,  4.2889e-02,  2.3305e-02,  8.6411e-02],\n",
       "                        [-2.5671e-02, -4.2301e-03,  2.2256e-02,  1.5957e-02,  2.3438e-02],\n",
       "                        [ 4.5571e-02,  1.6182e-02,  3.3777e-02,  2.3578e-02,  1.6557e-02],\n",
       "                        [ 1.4404e-03, -6.8475e-03,  5.4803e-02,  2.1808e-02,  3.2056e-02]],\n",
       "              \n",
       "                       [[-2.3927e-03,  3.0086e-02, -5.9829e-03,  1.4764e-02,  1.4719e-02],\n",
       "                        [-7.7826e-03,  2.1877e-02, -4.5528e-03,  2.0633e-02,  2.5943e-02],\n",
       "                        [ 4.0308e-02,  2.4870e-02, -1.0959e-02, -3.5495e-02,  3.1332e-02],\n",
       "                        [ 2.5491e-02, -1.8913e-03, -4.8987e-03,  3.6345e-04,  1.3547e-02],\n",
       "                        [ 3.9752e-02, -2.7602e-02, -4.2005e-02,  1.0641e-04,  5.1420e-02]],\n",
       "              \n",
       "                       [[-2.5700e-02,  1.0245e-02,  1.9030e-02, -2.5663e-02, -2.1798e-02],\n",
       "                        [ 1.9929e-02, -9.7068e-03, -5.7868e-03, -1.1558e-02,  2.1014e-02],\n",
       "                        [-2.2425e-02,  1.4712e-02,  2.4679e-02, -1.4727e-02,  1.3112e-02],\n",
       "                        [-8.9192e-03,  8.7971e-04,  2.6202e-02,  7.1260e-03,  2.6752e-03],\n",
       "                        [ 9.5330e-03,  2.5663e-02,  1.9633e-02,  2.1116e-02, -1.0801e-02]],\n",
       "              \n",
       "                       ...,\n",
       "              \n",
       "                       [[-1.5897e-02,  1.2711e-02, -5.6119e-03,  1.0538e-02, -8.3544e-03],\n",
       "                        [-1.9548e-02,  5.1033e-03, -6.6156e-03,  6.1336e-03,  2.1079e-02],\n",
       "                        [-6.1672e-03, -1.8665e-02,  7.6810e-03,  1.9735e-02,  3.7972e-02],\n",
       "                        [-3.8937e-02,  2.4963e-02,  1.1859e-02, -1.9217e-02,  1.0372e-03],\n",
       "                        [-2.9161e-02, -2.4678e-02,  3.3236e-02, -6.4781e-03,  3.1077e-02]],\n",
       "              \n",
       "                       [[-6.7020e-02, -3.5267e-02,  1.3591e-02,  4.3919e-02,  1.8543e-02],\n",
       "                        [-5.0082e-02, -7.3194e-02, -1.7446e-02,  4.1445e-02,  3.9199e-03],\n",
       "                        [-1.7471e-02, -1.1842e-02, -2.3566e-02,  2.7060e-02, -1.6433e-02],\n",
       "                        [ 4.5651e-03, -2.9019e-02, -8.6885e-03,  5.0610e-03,  3.3529e-02],\n",
       "                        [ 3.5551e-03, -1.0828e-02,  1.4560e-02,  1.1885e-02,  4.2561e-02]],\n",
       "              \n",
       "                       [[-1.2213e-02,  9.0021e-03,  3.9715e-02,  2.1414e-02, -2.5485e-02],\n",
       "                        [ 1.6466e-02, -1.9060e-02,  1.4103e-02, -2.0143e-02,  3.6838e-03],\n",
       "                        [-3.1752e-02,  5.1637e-03,  1.9375e-02,  2.3037e-02, -4.3435e-03],\n",
       "                        [ 8.6591e-03,  1.4330e-02,  2.8916e-02,  2.2200e-02,  1.8759e-02],\n",
       "                        [-1.5412e-02, -5.1536e-03, -2.6801e-02, -2.4627e-02, -4.0439e-03]]],\n",
       "              \n",
       "              \n",
       "                      ...,\n",
       "              \n",
       "              \n",
       "                      [[[ 8.6967e-03,  6.2378e-02,  1.7615e-02,  2.3291e-02, -1.0475e-02],\n",
       "                        [ 6.0820e-03,  3.9694e-02,  4.2405e-02,  2.6677e-02, -2.8328e-02],\n",
       "                        [ 6.0410e-02,  2.1994e-03,  5.8329e-02,  4.5266e-02,  2.5828e-02],\n",
       "                        [ 3.4792e-02,  3.8602e-02,  5.9545e-02, -1.3413e-04,  4.6013e-04],\n",
       "                        [-3.9798e-02, -4.2538e-02,  7.4687e-02,  1.2344e-01,  1.0048e-02]],\n",
       "              \n",
       "                       [[-1.0011e-02,  1.8288e-02, -1.5532e-02,  7.6782e-03, -5.0908e-02],\n",
       "                        [ 1.9563e-02, -2.1013e-02,  1.5896e-02,  1.7303e-02,  1.7862e-03],\n",
       "                        [ 7.4483e-03,  1.9661e-02, -3.1799e-03,  3.3972e-02, -1.7242e-02],\n",
       "                        [-4.7557e-03, -1.0552e-03, -5.1097e-03, -1.3013e-02, -2.8521e-02],\n",
       "                        [-2.3689e-02,  7.7641e-03,  2.6828e-02,  1.3128e-02, -1.8546e-02]],\n",
       "              \n",
       "                       [[ 1.9938e-02,  2.8296e-02,  9.5189e-03,  1.7275e-03, -4.7022e-03],\n",
       "                        [ 2.7262e-02,  2.6100e-02, -2.6334e-02, -4.0139e-02,  7.0901e-03],\n",
       "                        [ 1.8299e-02, -3.6708e-03, -2.3919e-02, -1.7788e-02, -3.3328e-02],\n",
       "                        [-1.7396e-02,  2.4318e-02, -1.5978e-02, -2.5493e-02, -1.6027e-02],\n",
       "                        [-1.3453e-03, -1.8720e-02,  5.6927e-03, -1.7701e-02, -7.0907e-03]],\n",
       "              \n",
       "                       ...,\n",
       "              \n",
       "                       [[ 2.3082e-02, -2.1762e-02,  2.8269e-02,  1.9916e-04, -1.4630e-02],\n",
       "                        [ 1.8597e-02,  3.3293e-02,  2.9188e-02,  3.0265e-02, -2.5130e-02],\n",
       "                        [ 2.1665e-02,  2.2694e-02,  2.4482e-02, -2.5659e-02, -2.6337e-02],\n",
       "                        [ 2.4157e-03, -8.4545e-03,  3.1762e-02, -8.5337e-03, -1.0577e-02],\n",
       "                        [-9.2236e-04,  7.0279e-03, -1.2261e-02,  6.7617e-03,  8.7065e-03]],\n",
       "              \n",
       "                       [[ 5.8870e-02,  5.0065e-02,  8.0315e-02,  5.0071e-02,  5.5070e-02],\n",
       "                        [ 5.0975e-02,  7.2350e-02,  7.6773e-02,  8.5897e-02,  3.8721e-02],\n",
       "                        [ 8.4764e-02,  7.4599e-02,  3.6613e-02,  4.7518e-02,  7.3018e-02],\n",
       "                        [ 7.1313e-02,  4.5893e-02,  3.4827e-02,  8.1420e-02,  8.1285e-02],\n",
       "                        [ 5.0059e-02,  6.1205e-02,  5.3211e-02,  6.3557e-02,  1.0228e-01]],\n",
       "              \n",
       "                       [[-3.9623e-02, -1.9260e-03, -4.7487e-03,  1.5508e-02, -5.8049e-03],\n",
       "                        [-3.0846e-03,  1.1353e-02,  8.7222e-03, -1.8000e-03,  1.7835e-02],\n",
       "                        [ 1.6885e-03, -3.5101e-02,  3.4593e-03, -7.2849e-03,  3.9703e-02],\n",
       "                        [ 1.1125e-02, -1.1131e-02,  3.4487e-02,  3.5410e-02, -5.8648e-03],\n",
       "                        [ 2.1309e-02,  2.8118e-04,  6.9000e-03, -4.0003e-03, -1.2939e-02]]],\n",
       "              \n",
       "              \n",
       "                      [[[-8.3239e-02,  1.0283e-02, -8.4152e-03, -5.3574e-02, -3.6886e-02],\n",
       "                        [-6.8259e-02, -6.8798e-03, -3.2977e-02,  1.7748e-02, -5.3256e-02],\n",
       "                        [-3.9882e-02, -2.9187e-02,  1.4791e-02, -1.7059e-02, -1.1802e-02],\n",
       "                        [-3.0204e-02,  1.5114e-02, -1.5100e-03, -2.4246e-02, -2.6235e-02],\n",
       "                        [-5.5573e-03, -2.0122e-02,  2.6487e-02,  4.9564e-03, -2.0400e-02]],\n",
       "              \n",
       "                       [[ 1.2821e-02, -2.7402e-02, -2.4180e-02, -3.4160e-02, -4.0029e-02],\n",
       "                        [-6.3224e-03, -3.0787e-03,  3.1440e-03, -3.1651e-02, -8.5871e-03],\n",
       "                        [-7.7844e-03, -3.4105e-02,  1.1545e-02, -1.8328e-02, -2.7667e-02],\n",
       "                        [ 1.1618e-02, -2.9859e-02, -1.1663e-02, -7.8707e-05, -3.5198e-02],\n",
       "                        [-5.2801e-03, -2.2685e-02, -4.3376e-03, -2.6319e-02, -2.8225e-02]],\n",
       "              \n",
       "                       [[-5.6147e-03,  1.9405e-02,  6.2453e-03, -1.0376e-02, -5.8585e-03],\n",
       "                        [-6.8124e-03, -3.2329e-02,  1.4886e-02, -1.1512e-02, -1.9113e-02],\n",
       "                        [ 9.4414e-03, -1.0113e-02,  1.3563e-02, -1.9970e-02, -1.4275e-02],\n",
       "                        [ 1.2100e-03, -1.0998e-02,  6.3558e-03, -1.8487e-02,  1.9898e-03],\n",
       "                        [-3.1533e-03, -3.4526e-03,  1.6036e-03,  1.0080e-02, -3.0928e-02]],\n",
       "              \n",
       "                       ...,\n",
       "              \n",
       "                       [[-8.6128e-03,  1.9316e-02, -1.5685e-02, -2.6615e-02, -2.1193e-02],\n",
       "                        [ 1.4724e-02, -1.6843e-02,  6.9086e-03,  1.7508e-03,  1.7742e-02],\n",
       "                        [-2.7131e-02, -9.3561e-03, -7.3241e-03, -2.3494e-02, -5.0862e-03],\n",
       "                        [-3.1126e-02,  1.6662e-02,  2.1494e-03,  2.1463e-02, -4.7367e-03],\n",
       "                        [-2.6770e-02,  2.8275e-03,  2.5803e-02, -1.7705e-02,  2.4786e-02]],\n",
       "              \n",
       "                       [[-1.4224e-02,  1.3631e-02,  2.1565e-02,  1.3755e-02,  4.2073e-03],\n",
       "                        [ 3.4563e-02, -3.2044e-03,  2.9046e-02, -8.6080e-03, -6.9355e-03],\n",
       "                        [-1.2271e-02,  6.6563e-03, -6.4770e-03,  1.3345e-02,  1.4119e-02],\n",
       "                        [ 2.4426e-02,  8.7291e-03, -3.1358e-03,  3.2429e-02, -2.5713e-02],\n",
       "                        [ 3.1849e-02,  1.7900e-02,  6.2870e-03, -5.8764e-03,  1.7146e-02]],\n",
       "              \n",
       "                       [[ 3.1305e-03,  2.5815e-03, -3.5867e-03,  1.3935e-02, -5.6288e-03],\n",
       "                        [-1.6403e-02,  1.1175e-02,  6.3651e-03, -4.1506e-03, -3.7853e-02],\n",
       "                        [-1.8656e-02, -5.3846e-03, -7.0220e-03,  9.5043e-03, -1.7436e-02],\n",
       "                        [-5.9522e-03, -2.7758e-02, -1.2678e-03,  2.7655e-03,  2.9736e-02],\n",
       "                        [ 1.9635e-02,  1.5886e-02, -1.2944e-02,  1.0501e-03, -1.6685e-02]]],\n",
       "              \n",
       "              \n",
       "                      [[[-4.3465e-02, -1.1350e-02, -1.0223e-01, -1.1465e-01, -8.9031e-02],\n",
       "                        [-1.7171e-02, -4.8966e-02,  6.6916e-03, -6.5143e-02, -1.3351e-01],\n",
       "                        [-5.2607e-02, -6.0206e-02, -1.4743e-02, -6.7953e-02, -6.6012e-02],\n",
       "                        [ 3.4098e-02, -6.8940e-02, -1.1241e-02, -3.0709e-02, -5.4698e-02],\n",
       "                        [-4.4024e-03, -5.9253e-03,  9.9570e-03,  1.2051e-02, -3.2383e-02]],\n",
       "              \n",
       "                       [[ 4.0056e-02, -2.7378e-02,  7.4145e-03, -3.3115e-02, -2.5538e-02],\n",
       "                        [ 1.5419e-02, -2.4157e-02,  2.6324e-02,  1.2242e-02, -2.9785e-02],\n",
       "                        [-2.1615e-02, -1.4126e-02,  1.2913e-02,  1.1435e-02, -3.0508e-02],\n",
       "                        [-1.9347e-02, -3.4203e-02, -1.0680e-02, -2.8443e-03, -1.6189e-02],\n",
       "                        [-2.1390e-02, -2.3248e-02, -4.9828e-02,  3.4082e-03, -4.4753e-02]],\n",
       "              \n",
       "                       [[ 8.0383e-03, -2.6210e-03,  2.0805e-02, -2.4167e-02,  1.2105e-02],\n",
       "                        [-2.8400e-02, -1.9748e-03, -1.4835e-02, -2.8151e-02, -1.8873e-02],\n",
       "                        [ 5.1372e-03, -2.1748e-02, -2.7312e-04, -7.5952e-03, -1.2696e-02],\n",
       "                        [-2.5055e-02,  2.7857e-02, -1.8391e-03, -4.3674e-02, -1.0657e-02],\n",
       "                        [-2.4181e-02,  1.4662e-02,  1.0380e-02, -3.4907e-02, -5.0968e-03]],\n",
       "              \n",
       "                       ...,\n",
       "              \n",
       "                       [[-3.0127e-03,  5.3046e-03, -1.0324e-02,  1.6427e-02,  6.8203e-03],\n",
       "                        [ 2.2886e-02,  2.8641e-03,  2.6282e-02,  2.2431e-02,  1.3752e-02],\n",
       "                        [-2.4134e-02, -1.0923e-04, -4.0790e-03,  2.7268e-02,  1.7207e-02],\n",
       "                        [-6.4237e-03, -1.4288e-03,  1.3186e-02,  2.7484e-02, -5.0982e-03],\n",
       "                        [-1.0816e-02,  2.1601e-02,  3.0784e-03,  3.7189e-02,  1.2822e-03]],\n",
       "              \n",
       "                       [[ 1.6167e-02, -5.3529e-02, -5.0595e-02, -3.4671e-02, -6.4108e-02],\n",
       "                        [-3.6452e-02, -6.0156e-02, -8.0971e-02, -3.8822e-02, -3.8600e-02],\n",
       "                        [-3.8066e-02, -6.8044e-02, -9.5647e-02, -7.3916e-02, -8.9382e-02],\n",
       "                        [-3.1434e-02, -4.1881e-02, -9.6367e-02, -6.2463e-02, -6.3764e-02],\n",
       "                        [-3.9824e-02, -3.6690e-02, -7.8586e-02, -2.5204e-02, -6.8526e-02]],\n",
       "              \n",
       "                       [[-2.2997e-02,  1.8199e-02, -1.9183e-02, -1.3177e-02, -7.1442e-03],\n",
       "                        [ 3.6912e-02,  2.8211e-02,  2.1993e-02,  2.0392e-03, -2.4112e-02],\n",
       "                        [ 2.6525e-02, -1.8452e-02, -3.7023e-02, -1.8663e-02,  4.5371e-03],\n",
       "                        [-4.7946e-03, -7.6685e-04, -2.1119e-02, -3.0530e-02, -2.4450e-02],\n",
       "                        [ 8.6170e-03, -3.1838e-02, -3.7556e-02,  8.4572e-03,  1.9809e-02]]]])),\n",
       "             ('conv2.bias',\n",
       "              tensor([-0.0050,  0.0201, -0.0197,  0.0220, -0.0019,  0.0097, -0.0106, -0.0348,\n",
       "                      -0.0215, -0.0205, -0.0100,  0.0249, -0.0698, -0.0200, -0.0072, -0.0311,\n",
       "                      -0.0552, -0.0246,  0.0197, -0.0187, -0.0011,  0.0198,  0.0020, -0.0050,\n",
       "                      -0.0040,  0.0144,  0.0182, -0.0302,  0.0079,  0.0035,  0.0144, -0.0178,\n",
       "                       0.0099, -0.0086,  0.0204, -0.0061, -0.0530, -0.0056,  0.0020, -0.0077,\n",
       "                      -0.0106,  0.0144, -0.0353,  0.0057, -0.0119,  0.0069,  0.0564,  0.0099,\n",
       "                      -0.0180,  0.0035, -0.0012,  0.0004, -0.0406,  0.0185, -0.0259,  0.0150,\n",
       "                      -0.0061, -0.0231, -0.0172,  0.0007,  0.0412, -0.0175, -0.0257, -0.0185,\n",
       "                       0.0202,  0.0321, -0.0007, -0.0038,  0.0184, -0.0141, -0.0071,  0.0043,\n",
       "                      -0.0320,  0.0058,  0.0001, -0.0324,  0.0140, -0.0104,  0.0006,  0.0109,\n",
       "                      -0.0236, -0.0077,  0.0121,  0.0122, -0.0008, -0.0012,  0.0128,  0.0102,\n",
       "                       0.0088, -0.0099, -0.0272,  0.0491,  0.0074, -0.0217, -0.0053, -0.0068])),\n",
       "             ('fc1.weight',\n",
       "              tensor([[ 0.0012,  0.0331,  0.0317,  ...,  0.0415,  0.0597,  0.0534],\n",
       "                      [-0.0312, -0.0224,  0.0077,  ...,  0.0072,  0.0074, -0.0062],\n",
       "                      [-0.0295, -0.0443, -0.0636,  ...,  0.0389,  0.0680,  0.0444],\n",
       "                      ...,\n",
       "                      [-0.0080, -0.0175,  0.0043,  ...,  0.0407, -0.0089,  0.0091],\n",
       "                      [-0.0061,  0.0080, -0.0423,  ..., -0.0381,  0.0398,  0.0316],\n",
       "                      [ 0.1088, -0.0649, -0.2733,  ...,  0.0728,  0.0848,  0.0215]])),\n",
       "             ('fc1.bias',\n",
       "              tensor([ 0.0107, -0.0256,  0.0201, -0.0430, -0.0013, -0.0132, -0.0103,  0.0098,\n",
       "                      -0.0386, -0.0023, -0.0174, -0.0440, -0.0076, -0.0614, -0.0263, -0.0516,\n",
       "                      -0.0386, -0.0602,  0.0032, -0.0374,  0.0008, -0.0201,  0.0184, -0.0207,\n",
       "                      -0.0096, -0.0044,  0.0882,  0.0657, -0.0040, -0.0441, -0.0283, -0.0528,\n",
       "                       0.0192, -0.0250,  0.0396, -0.1014,  0.0381, -0.0395, -0.0139,  0.0306,\n",
       "                      -0.0685, -0.0371, -0.0045, -0.0281,  0.0076,  0.0092,  0.0044, -0.0017,\n",
       "                      -0.0303, -0.0036, -0.0113, -0.0668, -0.0200, -0.0283, -0.0782, -0.0104,\n",
       "                      -0.0130, -0.0871, -0.0327, -0.0147, -0.0259, -0.0230,  0.0160, -0.0231,\n",
       "                      -0.0295,  0.0190, -0.0381, -0.0296, -0.0414, -0.0263, -0.1219, -0.0164,\n",
       "                      -0.0680, -0.0357, -0.0132, -0.0057, -0.0820, -0.0146, -0.0407, -0.0254,\n",
       "                      -0.0334, -0.0288, -0.0454, -0.0466, -0.0449, -0.0243,  0.0067,  0.0108,\n",
       "                       0.0271, -0.0383, -0.0790,  0.0614,  0.0149,  0.0059, -0.0702, -0.0621,\n",
       "                      -0.0205, -0.0165, -0.0010, -0.0046,  0.0819, -0.0292, -0.0497, -0.0024,\n",
       "                       0.0340, -0.0288, -0.0594, -0.0253, -0.0409, -0.0054, -0.0632, -0.0328,\n",
       "                      -0.0267, -0.0581, -0.0402,  0.0531,  0.0063,  0.0280, -0.0564, -0.0535,\n",
       "                      -0.0342, -0.0190,  0.0098, -0.0233, -0.0038, -0.0973, -0.0121, -0.0476,\n",
       "                       0.0258, -0.0321, -0.0122, -0.0160, -0.0101, -0.0161, -0.0578, -0.0179,\n",
       "                      -0.0248, -0.1322,  0.0078, -0.0173, -0.0383, -0.0667, -0.0339, -0.0629,\n",
       "                      -0.1106, -0.0324, -0.0027, -0.0276,  0.0026, -0.0368, -0.0006, -0.0243,\n",
       "                      -0.0763, -0.0063, -0.0573, -0.0273, -0.0341,  0.0128, -0.0661, -0.0099,\n",
       "                      -0.0234,  0.0063, -0.0424,  0.0076, -0.0140, -0.0340, -0.0320, -0.0350,\n",
       "                      -0.1085, -0.0288, -0.0145, -0.0282, -0.0373,  0.0091, -0.0821, -0.0350,\n",
       "                      -0.0442,  0.0966,  0.0029, -0.0424, -0.0295, -0.0009, -0.0318, -0.0083,\n",
       "                      -0.0038,  0.0060, -0.0563, -0.0617,  0.0116, -0.0207,  0.0095,  0.0286,\n",
       "                      -0.1116, -0.0486, -0.0524, -0.0489, -0.0465, -0.0257, -0.0240, -0.0100,\n",
       "                      -0.0324, -0.0872, -0.0376, -0.0287, -0.0165, -0.0130, -0.0025, -0.0020,\n",
       "                      -0.0006, -0.0177, -0.0222, -0.0367, -0.0197, -0.0042, -0.0602,  0.0072,\n",
       "                      -0.0311, -0.0050, -0.0148, -0.0731, -0.0080, -0.0255, -0.0183, -0.0935,\n",
       "                       0.0008, -0.0584, -0.0328, -0.0135, -0.0588, -0.0093,  0.0010, -0.0443,\n",
       "                      -0.0323, -0.0150, -0.0421, -0.0122,  0.0097, -0.1166, -0.0443, -0.0367,\n",
       "                      -0.0042,  0.0150, -0.0103, -0.0677, -0.0322, -0.0465, -0.0098,  0.0256,\n",
       "                      -0.0315, -0.0300, -0.0125, -0.0546, -0.1018, -0.0129, -0.0298, -0.0237,\n",
       "                      -0.0442,  0.0487, -0.0455,  0.0193, -0.0249, -0.0158, -0.0507, -0.0195,\n",
       "                      -0.0370, -0.0607, -0.0137, -0.0459,  0.0110, -0.0547, -0.0675, -0.0742,\n",
       "                      -0.0152, -0.0280, -0.0013, -0.0834, -0.0278, -0.0161, -0.0129, -0.0307,\n",
       "                      -0.0226,  0.0125, -0.0420, -0.0567,  0.0336,  0.0280, -0.0297, -0.0315,\n",
       "                       0.0020, -0.0233,  0.0453, -0.0081, -0.0797,  0.0182, -0.0826,  0.0159,\n",
       "                      -0.0302,  0.0135, -0.0378, -0.0421, -0.0070, -0.0392, -0.0511, -0.0218,\n",
       "                      -0.0320, -0.1105,  0.0228, -0.0354, -0.0054, -0.0452, -0.0548, -0.0009,\n",
       "                      -0.0099, -0.0151, -0.0675, -0.0287, -0.0146, -0.0046, -0.0219,  0.0149,\n",
       "                      -0.0107, -0.0113, -0.0305, -0.0033,  0.0318, -0.0351,  0.0120, -0.0046,\n",
       "                      -0.0091, -0.0142, -0.0007, -0.0026, -0.0950, -0.0266, -0.0481, -0.0183,\n",
       "                       0.0366, -0.0478, -0.0141,  0.0151, -0.1157,  0.0019, -0.0220, -0.0407,\n",
       "                      -0.0287, -0.0020, -0.0667, -0.0749, -0.0032, -0.0015,  0.0044,  0.0087,\n",
       "                      -0.0475, -0.0148, -0.0050,  0.0076, -0.0723, -0.0269, -0.0231, -0.0214,\n",
       "                      -0.0267, -0.0826, -0.0190, -0.0185, -0.0166,  0.0004,  0.0065, -0.0419,\n",
       "                       0.0043, -0.1121, -0.0388, -0.0170, -0.0123, -0.0144, -0.0165, -0.0844,\n",
       "                      -0.0638, -0.0287, -0.0081, -0.0539, -0.0890,  0.0002,  0.0128, -0.0298,\n",
       "                      -0.0281, -0.0052,  0.0075, -0.1251, -0.0212, -0.0252, -0.0229, -0.0237,\n",
       "                      -0.0296, -0.0163, -0.0208, -0.0439, -0.0301, -0.0053,  0.0034, -0.0506,\n",
       "                      -0.0881, -0.0363, -0.0348, -0.0364, -0.0012, -0.0042, -0.0371, -0.0377])),\n",
       "             ('fc2.weight',\n",
       "              tensor([[ 0.0262, -0.0103, -0.1123,  ..., -0.0640,  0.0220, -0.0061],\n",
       "                      [-0.0347, -0.0008,  0.0329,  ..., -0.0403, -0.0308, -0.0232],\n",
       "                      [ 0.0190,  0.0018, -0.0306,  ..., -0.0182,  0.0129,  0.1911],\n",
       "                      ...,\n",
       "                      [ 0.0353, -0.0194, -0.0165,  ...,  0.0349,  0.0633,  0.0936],\n",
       "                      [-0.0387, -0.0232, -0.0273,  ...,  0.0341, -0.0889, -0.1542],\n",
       "                      [-0.0319, -0.0548, -0.1211,  ...,  0.0216,  0.0059,  0.0137]])),\n",
       "             ('fc2.bias',\n",
       "              tensor([-0.0424, -0.0534, -0.0320,  0.0417, -0.1264,  0.0736,  0.0349,  0.0439,\n",
       "                      -0.0112,  0.0490, -0.1196, -0.0279,  0.0380,  0.0567, -0.0106, -0.0421,\n",
       "                       0.0076, -0.0537, -0.0534, -0.0571, -0.0194,  0.1100,  0.0158,  0.0064,\n",
       "                      -0.0088])),\n",
       "             ('fc3.weight',\n",
       "              tensor([[-0.0784,  0.0940,  0.0485, -0.0646,  0.1180, -0.0219,  0.0114,  0.0713,\n",
       "                       -0.0497, -0.0946,  0.0813,  0.1822,  0.0979, -0.0838,  0.1646,  0.1104,\n",
       "                       -0.0451,  0.0744, -0.0595, -0.0968,  0.0359,  0.0292,  0.0162,  0.0139,\n",
       "                        0.0272],\n",
       "                      [-0.0891,  0.0919,  0.0880, -0.0703,  0.1165, -0.0106,  0.0187,  0.0719,\n",
       "                       -0.0477, -0.0735,  0.0862,  0.1829,  0.0456, -0.0709,  0.1687,  0.1146,\n",
       "                       -0.0528,  0.0886, -0.0327, -0.0772,  0.0625,  0.0392,  0.0246, -0.0300,\n",
       "                        0.0121]])),\n",
       "             ('fc3.bias', tensor([ 0.0756, -0.3038]))])"
      ]
     },
     "execution_count": 41,
     "metadata": {},
     "output_type": "execute_result"
    }
   ],
   "source": [
    "network.state_dict()"
   ]
  },
  {
   "cell_type": "markdown",
   "id": "22779ba0",
   "metadata": {},
   "source": [
    "[Go back to top.](#index)\n",
    "\n",
    "### 4.3. Predict class<a name=\"predict\"></a>"
   ]
  },
  {
   "cell_type": "code",
   "execution_count": 34,
   "id": "3d774be4",
   "metadata": {},
   "outputs": [
    {
     "name": "stdout",
     "output_type": "stream",
     "text": [
      "Accuracy: 0.9972144846796658\n"
     ]
    },
    {
     "name": "stderr",
     "output_type": "stream",
     "text": [
      "/Users/catarina/opt/anaconda3/lib/python3.7/site-packages/torch/nn/functional.py:1331: UserWarning: dropout2d: Received a 2-D input to dropout2d, which is deprecated and will result in an error in a future release. To retain the behavior and silence this warning, please use dropout instead. Note that dropout2d exists to provide channel-wise dropout on inputs with 2 spatial dimensions, a channel dimension, and an optional batch dimension (i.e. 3D or 4D inputs).\n",
      "  warnings.warn(warn_msg)\n"
     ]
    }
   ],
   "source": [
    "predictions, labels = predict.predict(network, test_dataset) \n",
    "accuracy = np.sum(predictions == labels) / len(labels)"
   ]
  },
  {
   "cell_type": "markdown",
   "id": "44769e33",
   "metadata": {},
   "source": [
    "[Go back to top.](#index)\n",
    "\n",
    "## 5. Results<a name=\"results\"></a>\n",
    "\n",
    "### 5.1. Confusion matrix<a name=\"cm\"></a>"
   ]
  },
  {
   "cell_type": "code",
   "execution_count": 35,
   "id": "dce98b43",
   "metadata": {},
   "outputs": [],
   "source": [
    "def plot_confusion_matrix(y_true, y_pred, title=None, normalise=None,\n",
    "                          dict_label_to_real=None, figsize=None, **kwargs):\n",
    "    \"\"\"Plot a confusion matrix.\n",
    "\n",
    "    Uses the true and predicted class labels to compute a confusion matrix.\n",
    "    This can be non-normalised, normalised by true class/row (the diagonals\n",
    "    show the accuracy of each class), and by predicted class/column (the\n",
    "    diagonals show the precision).\n",
    "\n",
    "    Parameters\n",
    "    ----------\n",
    "    y_true : 1D array-like\n",
    "        Ground truth (correct) labels of shape (n_samples,).\n",
    "    y_true : 1D array-like\n",
    "        Predicted class labels of shape (n_samples,).\n",
    "    title : {None, str}, optional\n",
    "        Title of the plot.\n",
    "    normalise : {None, str}, optional\n",
    "       If `None`, use the absolute numbers in each matrix entry. If 'accuracy',\n",
    "       normalise per true class. If 'precision', normalise per predicted class.\n",
    "    dict_label_to_real : dict, optional\n",
    "        Dictionary containing the class labels as key and its real name as\n",
    "        values. E.g. for PLAsTiCC\n",
    "        `dict_label_to_real = {42: 'SNII', 62: 'SNIbc', 90: 'SNIa'}`.\n",
    "        If `None`, the default class labels are used.\n",
    "    figsize : {None, tuple}\n",
    "        If `None`, use the default `figsize` of the plot. Otherwise, create a\n",
    "        figure with the given size.\n",
    "\n",
    "    Returns\n",
    "    -------\n",
    "    cm : np.array\n",
    "       The confusion matrix, as computed by `sklearn.metrics.confusion_matrix`.\n",
    "    \"\"\"\n",
    "    # Make and normalise the confusion matrix\n",
    "    cm = confusion_matrix(y_true, y_pred)\n",
    "    if normalise == 'accuracy':\n",
    "        cm = cm.astype('float') / cm.sum(axis=1)[:, np.newaxis]\n",
    "        kwargs = {'vmin': 0, 'vmax': 1}\n",
    "        print(\"Confusion matrix normalised by true class.\")\n",
    "    elif normalise == 'precision':\n",
    "        cm = cm.astype('float') / cm.sum(axis=0)[np.newaxis, :]\n",
    "        kwargs = {'vmin': 0, 'vmax': 1}\n",
    "        print(\"Confusion matrix normalised by predicted class.\")\n",
    "    else:\n",
    "        print('Confusion matrix without normalisation')\n",
    "\n",
    "    # Classes in the dataset\n",
    "    target_names = np.unique(y_true)\n",
    "    target_names_ori = np.copy(target_names)  # the labels might be strings\n",
    "    if dict_label_to_real is not None:\n",
    "        target_names = np.vectorize(dict_label_to_real.get)(target_names)\n",
    "        if target_names[0] is None:  # fix the names being strings\n",
    "            target_names = list(map(int, target_names_ori))\n",
    "\n",
    "    # Plot the confusion matrix\n",
    "    if figsize is not None:\n",
    "        _, ax = plt.subplots(figsize=figsize)  # good values: (9, 7)\n",
    "    else:\n",
    "        _, ax = plt.subplots()\n",
    "    sns.heatmap(cm, xticklabels=target_names,\n",
    "                yticklabels=target_names, cmap='Blues',\n",
    "                annot=True, fmt='.2f', lw=0.5,\n",
    "                cbar_kws={'label': 'Fraction of events',\n",
    "                          'shrink': .82}, **kwargs)\n",
    "    ax.set_xlabel('Predicted class')\n",
    "    ax.set_ylabel('True class')\n",
    "    ax.set_yticklabels(ax.get_yticklabels(), rotation=0)\n",
    "    ax.set_aspect('equal')\n",
    "    if title is not None:\n",
    "        plt.title(title)\n",
    "\n",
    "    return cm"
   ]
  },
  {
   "cell_type": "code",
   "execution_count": 36,
   "id": "cfa87c85",
   "metadata": {},
   "outputs": [
    {
     "name": "stdout",
     "output_type": "stream",
     "text": [
      "Confusion matrix normalised by true class.\n"
     ]
    },
    {
     "data": {
      "text/plain": [
       "array([[1.        , 0.        ],\n",
       "       [0.00909091, 0.99090909]])"
      ]
     },
     "execution_count": 36,
     "metadata": {},
     "output_type": "execute_result"
    },
    {
     "data": {
      "image/png": "[encoded data removed]",
      "text/plain": [
       "<Figure size 432x288 with 2 Axes>"
      ]
     },
     "metadata": {},
     "output_type": "display_data"
    }
   ],
   "source": [
    "plot_confusion_matrix(y_true=labels, y_pred=predictions, \n",
    "                      normalise='accuracy', \n",
    "                      title=net_type+f'\\nAccuracy: {accuracy:.3f}', \n",
    "                      dict_label_to_real={0:'gal-gal', 1:'2 gals'})"
   ]
  },
  {
   "cell_type": "markdown",
   "id": "7e769e81",
   "metadata": {},
   "source": [
    "[Go back to top.](#index)\n",
    "\n",
    "### 5.2. Learning curve<a name=\"learningCurve\"></a>"
   ]
  },
  {
   "cell_type": "code",
   "execution_count": 53,
   "id": "161d69a1",
   "metadata": {},
   "outputs": [
    {
     "data": {
      "text/plain": [
       "Text(0.5, 1.0, 'Learning curve')"
      ]
     },
     "execution_count": 53,
     "metadata": {},
     "output_type": "execute_result"
    },
    {
     "data": {
      "image/png": "[encoded data removed]",
      "text/plain": [
       "<Figure size 432x288 with 1 Axes>"
      ]
     },
     "metadata": {},
     "output_type": "display_data"
    }
   ],
   "source": [
    "plt.plot(monitor_table['Loss'], linewidth=3, label='Loss')\n",
    "plt.plot(monitor_table['Train Acc'], linewidth=3, label='Train Accuracy')\n",
    "plt.plot(monitor_table['Test Acc'], linewidth=3, label='Test Accuracy')\n",
    "plt.xlabel('Epochs')\n",
    "plt.ylabel('Score')\n",
    "plt.legend()\n",
    "plt.title('Learning curve')"
   ]
  },
  {
   "cell_type": "markdown",
   "id": "9f9a671c",
   "metadata": {},
   "source": [
    "[Go back to top.](#index)"
   ]
  }
 ],
 "metadata": {
  "kernelspec": {
   "display_name": "Python 3",
   "language": "python",
   "name": "python3"
  },
  "language_info": {
   "codemirror_mode": {
    "name": "ipython",
    "version": 3
   },
   "file_extension": ".py",
   "mimetype": "text/x-python",
   "name": "python",
   "nbconvert_exporter": "python",
   "pygments_lexer": "ipython3",
   "version": "3.7.7"
  }
 },
 "nbformat": 4,
 "nbformat_minor": 5
}
